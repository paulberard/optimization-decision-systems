{
 "cells": [
  {
   "cell_type": "code",
   "execution_count": 133,
   "metadata": {},
   "outputs": [
    {
     "name": "stdout",
     "output_type": "stream",
     "text": [
      "   Unnamed: 0  profit  projects_done  long_proj_duration\n",
      "1          27   126.0            1.0                 4.0\n",
      "2          28   168.0            1.0                 5.0\n",
      "3          29   210.0            1.0                 6.0\n",
      "4          30   252.0            1.0                 7.0\n",
      "5          31   294.0            1.0                 8.0\n",
      "(285, 4)\n",
      "Unnamed: 0            197.000000\n",
      "profit                477.789474\n",
      "projects_done           8.000000\n",
      "long_proj_duration     13.000000\n",
      "dtype: float64\n"
     ]
    }
   ],
   "source": [
    "\n",
    "import numpy as np\n",
    "import matplotlib.pyplot as plt\n",
    "import json\n",
    "from pathlib import Path\n",
    "import pandas as pd\n",
    "\n",
    "# Data directory\n",
    "DATA_PATH = Path(\"./medium_instance_pareto.csv\")\n",
    "#DATA_PATH = Path(\"C:/Users/ladis/OneDrive/Bureau/sdp_charlotte/optimization-project/solutions_medium.csv\")\n",
    "# on récupère les données et on fait un rapide prétraitement\n",
    "I=pd.read_csv(DATA_PATH)\n",
    "#I.loc[:,I.columns[1]] *= -1\n",
    "I=I.dropna()\n",
    "print(I.head())\n",
    "print(I.shape)\n",
    "mean_of_columns = I.mean()\n",
    "print(mean_of_columns)"
   ]
  },
  {
   "attachments": {},
   "cell_type": "markdown",
   "metadata": {},
   "source": [
    "Normalisation des données"
   ]
  },
  {
   "cell_type": "code",
   "execution_count": 134,
   "metadata": {},
   "outputs": [
    {
     "name": "stdout",
     "output_type": "stream",
     "text": [
      "   Unnamed: 0    profit  projects_done  long_proj_duration\n",
      "1          27  0.000000            0.0            0.000000\n",
      "2          28  0.069652            0.0            0.055556\n",
      "3          29  0.139303            0.0            0.111111\n",
      "4          30  0.208955            0.0            0.166667\n",
      "5          31  0.278607            0.0            0.222222\n",
      "(285, 4)\n"
     ]
    }
   ],
   "source": [
    "#on crée une copie pour pas modifier la df de base\n",
    "I2=I\n",
    "\n",
    "\n",
    "# on normaliste les scores avec une normalisation simple, on divise juste par le max.\n",
    "def normalisationbase():\n",
    "    max1=I2[I.columns[1]].max()\n",
    "    max2=I2[I.columns[2]].max()\n",
    "    max3=I2[I.columns[3]].max()\n",
    "\n",
    "    I2[I.columns[0]]=I2[I.columns[0]]\n",
    "    I2[I.columns[1]]=I2[I.columns[1]]/max1\n",
    "    I2[I.columns[2]]=I2[I.columns[2]]/max2\n",
    "    I2[I.columns[3]]=I2[I.columns[3]]/max3\n",
    "    return\n",
    "\n",
    "#normalisation un peu plus avancée, (val-min)/(max-min)\n",
    "def normalisationavancee():\n",
    "    max1=I2[I.columns[1]].max()\n",
    "    max2=I2[I.columns[2]].max()\n",
    "    max3=I2[I.columns[3]].max()\n",
    "\n",
    "    min1=I2[I.columns[1]].min()\n",
    "    min2=I2[I.columns[2]].min()\n",
    "    min3=I2[I.columns[3]].min()\n",
    "    \n",
    "    I2[I.columns[1]]=(I2[I.columns[1]]-min1)/(max1-min1)\n",
    "    I2[I.columns[2]]=(I2[I.columns[2]]-min2)/(max2-min2)\n",
    "    I2[I.columns[3]]=(I2[I.columns[3]]-min3)/(max3-min3)\n",
    "    return\n",
    "\n",
    "#normalisationbase()\n",
    "normalisationavancee()\n",
    "\n",
    "print(I2.head())\n",
    "print(I2.shape)"
   ]
  },
  {
   "attachments": {},
   "cell_type": "markdown",
   "metadata": {},
   "source": [
    "On applique des poids arbitraire et on fait un tri entre les scores pondérés !"
   ]
  },
  {
   "cell_type": "code",
   "execution_count": 135,
   "metadata": {},
   "outputs": [
    {
     "name": "stdout",
     "output_type": "stream",
     "text": [
      "[(27, 0.0, 0.0, 0.0, 0.0), (28, 0.3482587064676617, 0.0, 0.05555555555555555, 0.2927031509121062), (29, 0.6965174129353234, 0.0, 0.1111111111111111, 0.5854063018242124), (30, 1.044776119402985, 0.0, 0.16666666666666666, 0.8781094527363184), (31, 1.3930348258706469, 0.0, 0.2222222222222222, 1.1708126036484248), (32, 1.7412935323383085, 0.0, 0.2777777777777778, 1.4635157545605306), (33, 2.08955223880597, 0.0, 0.3333333333333333, 1.7562189054726367), (34, 2.4378109452736316, 0.0, 0.3888888888888889, 2.048922056384743), (35, 2.7860696517412937, 0.0, 0.4444444444444444, 2.3416252072968495), (36, 3.1343283582089554, 0.0, 0.5, 2.6343283582089554)]\n",
      "27 50 73 96 119\n"
     ]
    }
   ],
   "source": [
    "w1=5\n",
    "w2=1\n",
    "w3=1\n",
    "\n",
    "W= [w1,w2,w3]\n",
    "#copie de la df\n",
    "I3=pd.DataFrame(columns=[I.columns[0],I.columns[1],I.columns[2],I.columns[3]])\n",
    "\n",
    "#on applique les poids à la df\n",
    "I3[I.columns[0]]=I2[I.columns[0]]\n",
    "I3[I.columns[1]]=I2[I.columns[1]]*w1\n",
    "I3[I.columns[2]]=I2[I.columns[2]]*w2\n",
    "I3[I.columns[3]]=I2[I.columns[3]]*w3\n",
    "\n",
    "\n",
    "# fonction score où on somme les trois colonnes avec un signe \"-\" devant la deuxième et la troisième car on veut les minimiser\n",
    "def g(i):\n",
    "    return (I3.iloc[i,0],I3.iloc[i,1],I3.iloc[i,2],I3.iloc[i,3],(I3.iloc[i,1]-I3.iloc[i,2]-I3.iloc[i,3]))\n",
    "\n",
    "#on applique cette fonction score à chaque row de la df et on stock dans un liste scores\n",
    "scores=[]\n",
    "for i in range(len(I2)):\n",
    "    #print(g(i))\n",
    "    scores.append(g(i))\n",
    "print(scores[:10])\n",
    "\n",
    "\n",
    "#on fait un tri \n",
    "def getKey(element):\n",
    "    return element[1]\n",
    "sorted(scores, key=getKey)\n",
    "scores_trie=sorted(scores, key=getKey)\n",
    "\n",
    "# on afficge les 5 premiers\n",
    "print(scores_trie[0][0],scores_trie[1][0],scores_trie[2][0],scores_trie[3][0],scores_trie[4][0])\n"
   ]
  },
  {
   "cell_type": "code",
   "execution_count": 136,
   "metadata": {},
   "outputs": [
    {
     "name": "stdout",
     "output_type": "stream",
     "text": [
      "-1.0 4.055555555555555\n"
     ]
    },
    {
     "data": {
      "image/png": "[encoded data removed]",
      "text/plain": [
       "<Figure size 432x288 with 1 Axes>"
      ]
     },
     "metadata": {
      "needs_background": "light"
     },
     "output_type": "display_data"
    }
   ],
   "source": [
    "#on récupère les scores pour tracer un histogramme\n",
    "justscores=[]\n",
    "for elem in scores:\n",
    "    justscores.append(elem[4])\n",
    "min=np.min(justscores)\n",
    "max=np.max(justscores)\n",
    "print(min,max)\n",
    "\n",
    "\n",
    "import matplotlib.pyplot as plt\n",
    "\n",
    "plt.hist(justscores, bins=10, edgecolor='black')\n",
    "plt.title(\"Répartition des valeurs\")\n",
    "plt.xlabel(\"Valeurs\")\n",
    "plt.ylabel(\"Fréquence\")\n",
    "plt.show()"
   ]
  },
  {
   "cell_type": "code",
   "execution_count": 137,
   "metadata": {},
   "outputs": [
    {
     "name": "stdout",
     "output_type": "stream",
     "text": [
      "Fréquences d'apparition : [11 23 25 25 27 26 29 38 49 32]\n",
      "Intervalles de valeurs : [-1.         -0.49444444  0.01111111  0.51666667  1.02222222  1.52777778\n",
      "  2.03333333  2.53888889  3.04444444  3.55        4.05555556]\n"
     ]
    }
   ],
   "source": [
    "hist, bins = np.histogram(justscores, bins=10)\n",
    "\n",
    "print(\"Fréquences d'apparition :\", hist)\n",
    "print(\"Intervalles de valeurs :\", bins)"
   ]
  },
  {
   "attachments": {},
   "cell_type": "markdown",
   "metadata": {},
   "source": [
    "Les poids ont été choisis pour avoir une répartition assez uniforme des valeurs de scores. Ensuite on attribue des valeurs de scores fictives aux instances en utilisant la répartitiion de l'histogramme "
   ]
  },
  {
   "cell_type": "code",
   "execution_count": 138,
   "metadata": {},
   "outputs": [
    {
     "name": "stdout",
     "output_type": "stream",
     "text": [
      "286\n"
     ]
    }
   ],
   "source": [
    "scorespourtrain=[bins[0]]\n",
    "\n",
    "for i in hist:\n",
    "    for k in range(i):\n",
    "        scorespourtrain.append(scorespourtrain[-1]+(bins[-1]-bins[-2])/i)\n",
    "\n",
    "#print(scorespourtrain)\n",
    "print(len(scorespourtrain))"
   ]
  },
  {
   "cell_type": "code",
   "execution_count": 139,
   "metadata": {},
   "outputs": [
    {
     "name": "stdout",
     "output_type": "stream",
     "text": [
      "True\n"
     ]
    }
   ],
   "source": [
    "#on garde que les valeurs des fonctions pour entrainer la regression linéaire\n",
    "l_train = [(t[1:-1]) for t in scores_trie]\n",
    "X_train=l_train\n",
    "Y_train=scorespourtrain[:-1]\n",
    "\n",
    "print(len(X_train)==len(Y_train))\n"
   ]
  },
  {
   "cell_type": "code",
   "execution_count": 140,
   "metadata": {},
   "outputs": [
    {
     "name": "stdout",
     "output_type": "stream",
     "text": [
      "Les poids sont : [0.71554641 0.27353372 0.68831036]\n"
     ]
    }
   ],
   "source": [
    "from sklearn.linear_model import LinearRegression\n",
    "\n",
    "#regression linéaire\n",
    "reg = LinearRegression().fit(X_train, Y_train)\n",
    "\n",
    "# Affichage des coefficients (poids)\n",
    "print(\"Les poids sont :\", reg.coef_)\n",
    "\n"
   ]
  },
  {
   "attachments": {},
   "cell_type": "markdown",
   "metadata": {},
   "source": [
    "On cherche à regarder si la régression linéaire a été efficace en regardant l'écart entre le score supposé et le score prédit."
   ]
  },
  {
   "cell_type": "code",
   "execution_count": 141,
   "metadata": {},
   "outputs": [
    {
     "name": "stdout",
     "output_type": "stream",
     "text": [
      "0.4570873014274961\n"
     ]
    }
   ],
   "source": [
    "scorespred=[]\n",
    "\n",
    "def dot_product(list1, list2):\n",
    "    return sum(x * y for x, y in zip(list1, list2))\n",
    "\n",
    "for elem in l_train:\n",
    "    scorespred.append(dot_product(elem,[reg.coef_[0],-reg.coef_[1],-reg.coef_[2]]))\n",
    "\n",
    "compar=[]\n",
    "for i in range(len(scorespourtrain)-1):\n",
    "    compar.append(np.maximum(scorespourtrain[i],scorespred[i])-np.minimum(scorespourtrain[i],scorespred[i]))\n",
    "\n",
    "\n",
    "print(np.mean(compar))\n"
   ]
  },
  {
   "attachments": {},
   "cell_type": "markdown",
   "metadata": {},
   "source": [
    "la moyenne des écarts est de 0.45 c'est satisfaisant, si c'était aléatoire on aura une moyenne d'écart de 2,5 (car max-min = 5)"
   ]
  },
  {
   "attachments": {},
   "cell_type": "markdown",
   "metadata": {},
   "source": [
    "On trace ici l'ensemble des instances"
   ]
  },
  {
   "cell_type": "code",
   "execution_count": 142,
   "metadata": {},
   "outputs": [
    {
     "name": "stderr",
     "output_type": "stream",
     "text": [
      "C:\\Users\\ladis\\AppData\\Local\\Temp/ipykernel_57828/4136973032.py:25: MatplotlibDeprecationWarning: Calling gca() with keyword arguments was deprecated in Matplotlib 3.4. Starting two minor releases later, gca() will take no keyword arguments. The gca() function should only be used to get the current axes, or if no axes exist, create new axes with default keyword arguments. To create a new axes with non-default arguments, use plt.axes() or plt.subplot().\n",
      "  figure = plt.figure().gca(projection=\"3d\")\n"
     ]
    },
    {
     "data": {
      "image/png": "[encoded data removed]",
      "text/plain": [
       "<Figure size 432x288 with 1 Axes>"
      ]
     },
     "metadata": {
      "needs_background": "light"
     },
     "output_type": "display_data"
    }
   ],
   "source": [
    "\"\"\"Contain plot functions.\"\"\"\n",
    "import matplotlib.pyplot as plt\n",
    "from mpl_toolkits.mplot3d import Axes3D\n",
    "import numpy as np\n",
    "import pandas as pd\n",
    "\n",
    "DATA = Path(\"C:/Users/ladis/OneDrive/Bureau/sdp_charlotte/optimization-project/solutions_medium.csv\")\n",
    "sol=I=pd.read_csv(DATA)\n",
    "\n",
    "def plot(solution: np.ndarray):\n",
    "    schedule = np.zeros((solution.shape[0], solution.shape[3]))\n",
    "    for i in range(schedule.shape[0]):\n",
    "        for j in range(schedule.shape[1]):\n",
    "            for k in range(solution.shape[2]):\n",
    "                if np.sum(solution[i, :, k, j]) > 0:\n",
    "                    schedule[i, j] = k\n",
    "    plt.imshow(schedule)\n",
    "    plt.xlabel(\"Time (days)\")\n",
    "    plt.ylabel(\"Employees\")\n",
    "    plt.colorbar()\n",
    "    plt.show()\n",
    "\n",
    "\n",
    "def plot_pareto_surface(pareto_sol: pd.DataFrame):\n",
    "    figure = plt.figure().gca(projection=\"3d\")\n",
    "    figure.scatter(\n",
    "        -pareto_sol[sol.columns[1]],\n",
    "        pareto_sol[sol.columns[2]],\n",
    "        pareto_sol[sol.columns[3]],\n",
    "    )\n",
    "    figure.set_xlabel(\"Profit\")\n",
    "    figure.set_ylabel(\"Maximum number of projects done by an employee\")\n",
    "    figure.set_zlabel(\"Duration of the longest project\")\n",
    "    plt.show()\n",
    "\n",
    "plot_pareto_surface(sol)"
   ]
  }
 ],
 "metadata": {
  "kernelspec": {
   "display_name": "Python 3",
   "language": "python",
   "name": "python3"
  },
  "language_info": {
   "codemirror_mode": {
    "name": "ipython",
    "version": 3
   },
   "file_extension": ".py",
   "mimetype": "text/x-python",
   "name": "python",
   "nbconvert_exporter": "python",
   "pygments_lexer": "ipython3",
   "version": "3.9.13"
  },
  "orig_nbformat": 4,
  "vscode": {
   "interpreter": {
    "hash": "d88424c0cb5f6f19665a5bb5cead25e084d1a777cb0b11f6fdfc381f5f56b88b"
   }
  }
 },
 "nbformat": 4,
 "nbformat_minor": 2
}
