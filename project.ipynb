{
 "cells": [
  {
   "cell_type": "code",
   "execution_count": 363,
   "metadata": {},
   "outputs": [],
   "source": [
    "from gurobipy import *\n",
    "import random as rd\n",
    "import json"
   ]
  },
  {
   "attachments": {},
   "cell_type": "markdown",
   "metadata": {},
   "source": [
    "### Looking at the data"
   ]
  },
  {
   "cell_type": "code",
   "execution_count": 364,
   "metadata": {},
   "outputs": [],
   "source": [
    "# Opening JSON file\n",
    "f = open('/Users/cha/Desktop/Code/optimization-project/data/medium.json')\n",
    "data = json.load(f)\n",
    "data.keys()\n",
    "f.close()"
   ]
  },
  {
   "cell_type": "code",
   "execution_count": 365,
   "metadata": {},
   "outputs": [
    {
     "data": {
      "text/plain": [
       "(22, ['F', 'G', 'A', 'D', 'J', 'C', 'H', 'E', 'B', 'I'])"
      ]
     },
     "execution_count": 365,
     "metadata": {},
     "output_type": "execute_result"
    }
   ],
   "source": [
    "data['horizon'], data['qualifications']"
   ]
  },
  {
   "cell_type": "code",
   "execution_count": 366,
   "metadata": {},
   "outputs": [
    {
     "data": {
      "text/plain": [
       "[{'name': 'Olivia', 'qualifications': ['A', 'B', 'C'], 'vacations': [1, 2]},\n",
       " {'name': 'Liam', 'qualifications': ['A', 'D', 'E'], 'vacations': [1, 2]},\n",
       " {'name': 'Emma', 'qualifications': ['B', 'H'], 'vacations': [8, 9]},\n",
       " {'name': 'Noah',\n",
       "  'qualifications': ['G', 'D', 'J', 'C', 'H', 'I'],\n",
       "  'vacations': []},\n",
       " {'name': 'Amelia',\n",
       "  'qualifications': ['F', 'G', 'J', 'E'],\n",
       "  'vacations': [16, 15]}]"
      ]
     },
     "execution_count": 366,
     "metadata": {},
     "output_type": "execute_result"
    }
   ],
   "source": [
    "data['staff']"
   ]
  },
  {
   "cell_type": "code",
   "execution_count": 367,
   "metadata": {},
   "outputs": [
    {
     "data": {
      "text/plain": [
       "{'name': 'Job9',\n",
       " 'gain': 25,\n",
       " 'due_date': 18,\n",
       " 'daily_penalty': 3,\n",
       " 'working_days_per_qualification': {'E': 4, 'G': 3, 'H': 2}}"
      ]
     },
     "execution_count": 367,
     "metadata": {},
     "output_type": "execute_result"
    }
   ],
   "source": [
    "data['jobs'][8]"
   ]
  },
  {
   "attachments": {},
   "cell_type": "markdown",
   "metadata": {},
   "source": [
    "## Model and variable"
   ]
  },
  {
   "cell_type": "code",
   "execution_count": 368,
   "metadata": {},
   "outputs": [],
   "source": [
    "# Instanciation du modèle\n",
    "m = Model(\"Simple PL modelling\")\n",
    "\n",
    "# Création de variables\n",
    "with open('/Users/cha/Desktop/Code/optimization-project/data/small.json') as f:\n",
    "    data = json.load(f)\n",
    "\n",
    "S = data['staff']\n",
    "J = data['jobs']\n",
    "Q = data['qualifications']\n",
    "H = data['horizon']\n",
    "\n",
    "X = m.addMVar(shape=(len(S), len(J), len(Q), H), vtype=GRB.BINARY)\n",
    "Y = m.addMVar(shape=len(J), vtype=GRB.BINARY)\n",
    "L = m.addMVar(shape=len(J))\n",
    "E = m.addMVar(shape=len(J))\n",
    "# maj du modèle\n",
    "m.update()"
   ]
  },
  {
   "attachments": {},
   "cell_type": "markdown",
   "metadata": {},
   "source": [
    "## Defining constraints and objective function"
   ]
  },
  {
   "cell_type": "code",
   "execution_count": 369,
   "metadata": {},
   "outputs": [
    {
     "name": "stdout",
     "output_type": "stream",
     "text": [
      "Warning for adding constraints: zero or small (< 1e-13) coefficients, ignored\n"
     ]
    }
   ],
   "source": [
    "def c1(x, i, t):\n",
    "    res = 0\n",
    "    for j in range(len(J)):\n",
    "        for k in range(len(Q)):\n",
    "            res += x[i, j, k, t]\n",
    "    return res\n",
    "\n",
    "def c4(x, j, k):\n",
    "    res = 0\n",
    "    for i in range(len(S)):\n",
    "        for t in range(H):\n",
    "            res += x[i, j, k, t]\n",
    "    return res\n",
    "\n",
    "\n",
    "# C1\n",
    "for i in range(len(S)):\n",
    "    for t in range(H):\n",
    "        m.addConstr(c1(X, i, t) <= 1)\n",
    "\n",
    "# C2\n",
    "for i in range(len(S)):\n",
    "    person = S[i]\n",
    "    for t in person['vacations']:\n",
    "        m.addConstr(c1(X, i, t) == 0)\n",
    "\n",
    "# C3\n",
    "for i in range(len(S)):\n",
    "    person = S[i]\n",
    "    for j in range(len(J)):\n",
    "        job = J[j]\n",
    "        for k in range(len(Q)):\n",
    "            qualification = Q[k]\n",
    "            if qualification not in person['qualifications'] and qualification not in list(job['working_days_per_qualification'].keys()):\n",
    "                for t in range(H):\n",
    "                    m.addConstr(X[i, j, k, t] == 0)\n",
    "\n",
    "# C4\n",
    "for j in range(len(J)):\n",
    "    job = J[j]\n",
    "    for k in range(len(Q)):\n",
    "        qualification = Q[k]\n",
    "        qualifications = list(job['working_days_per_qualification'].keys())\n",
    "        if qualification in qualifications:\n",
    "            njk = job['working_days_per_qualification'][qualification]\n",
    "            m.addConstr(Y[j] * njk <= c4(X, j, k))\n",
    "\n",
    "# C5\n",
    "for j in range(len(J)):\n",
    "    job = J[j]\n",
    "    for k in range(len(Q)):\n",
    "        qualification = Q[k]\n",
    "        qualifications = list(job['working_days_per_qualification'].keys())\n",
    "        if qualification in qualifications:\n",
    "            njk = job['working_days_per_qualification'][qualification]\n",
    "            m.addConstr(c4(X, j, k) <= njk)\n",
    "\n",
    "# C6\n",
    "for i in range(len(S)):\n",
    "    for j in range(len(J)):\n",
    "        for k in range(len(Q)):\n",
    "            for t in range(H):\n",
    "                m.addConstr(X[i, j, k, t] * t <= E[j])\n",
    "\n",
    "# C7\n",
    "for j in range(len(J)):\n",
    "    job = J[j]\n",
    "    dj = job[\"due_date\"]\n",
    "    m.addConstr(E[j] - dj <= L[j])\n",
    "\n",
    "# Ej <= H\n",
    "for j in range(len(J)):\n",
    "    m.addConstr(E[j] <= H)\n",
    "\n",
    "# Lj >= 0\n",
    "for j in range(len(J)):\n",
    "    m.addConstr(L[j] >= 0)\n",
    "\n",
    "# Ej > 0\n",
    "for j in range(len(J)):\n",
    "    m.addConstr(E[j] >= 1)"
   ]
  },
  {
   "attachments": {},
   "cell_type": "markdown",
   "metadata": {},
   "source": [
    "### Fonction objectif 1 : Maximiser le bénéfice"
   ]
  },
  {
   "cell_type": "code",
   "execution_count": 370,
   "metadata": {},
   "outputs": [],
   "source": [
    "def obj1(Y, L):\n",
    "    res = 0\n",
    "    for j in range(len(J)):\n",
    "        job = J[j]\n",
    "        gj = job[\"gain\"]\n",
    "        cj = job[\"daily_penalty\"]\n",
    "        res += (Y[j] * gj - L[j] * cj)\n",
    "    return res\n",
    "\n",
    "m.setObjective(\n",
    "    obj1(Y, L),\n",
    "    GRB.MAXIMIZE\n",
    ")"
   ]
  },
  {
   "attachments": {},
   "cell_type": "markdown",
   "metadata": {},
   "source": [
    "### Fonction objectif 2 : Minimiser le nombre de projets sur lesquels un quelconque collaborateur est affecté"
   ]
  },
  {
   "attachments": {},
   "cell_type": "markdown",
   "metadata": {},
   "source": [
    "si x ≥ x0, imposer la contrainte x − x0 < M.δ (avec M un majorant de x) implique que δ = 1"
   ]
  },
  {
   "cell_type": "code",
   "execution_count": 371,
   "metadata": {},
   "outputs": [],
   "source": [
    "# C'est un => qu'il faut introduire : si le nombre de jour sur lequel la personne travaille est supérieur à 1 alors la variable P[i, j] vaut 1\n",
    "\n",
    "def working_on_project(X, i, j):\n",
    "    res = 0\n",
    "    for k in range(len(Q)):\n",
    "        for t in range(H):\n",
    "            res += X[i, j, k, t]\n",
    "    return res\n",
    "\n",
    "P = m.addMVar(shape=(len(S), len(J)), vtype=GRB.BINARY)\n",
    "Z2 = m.addMVar(shape=1)\n",
    "\n",
    "# Contrainte : nombre de projets par personne\n",
    "for i in range(len(S)):\n",
    "    for j in range(len(J)):\n",
    "        res = working_on_project(X, i, j)\n",
    "        m.addConstr(res - 1 <= H * len(Q) * 1000 * P[i, j] + 1)\n",
    "        m.addConstr(H * len(Q) * 1000 * (1- P[i, j]) <= res - 1)\n",
    "\n",
    "def obj2(P, i):\n",
    "    res = 0\n",
    "    for j in range(len(J)):\n",
    "        res += P[i, j]\n",
    "    return res\n",
    "\n",
    "for i in range(len(S)):\n",
    "    m.addConstr(obj2(P, i) <= Z2)\n",
    "\n",
    "m.setObjective(\n",
    "    Z2,\n",
    "    GRB.MINIMIZE\n",
    ")"
   ]
  },
  {
   "attachments": {},
   "cell_type": "markdown",
   "metadata": {},
   "source": [
    "### Fonction objectif 3 : Executer le projet le plus long en un minimum de jours"
   ]
  },
  {
   "cell_type": "code",
   "execution_count": 372,
   "metadata": {},
   "outputs": [],
   "source": [
    "D = m.addMVar(shape=len(J))\n",
    "Z3 = m.addMVar(shape=1)\n",
    "\n",
    "for j in range(len(J)):\n",
    "    m.addConstr(res <= Z3)\n",
    "\n",
    "for j in range(len(J)):\n",
    "    m.addConstr(E[j] - D[j] <= Z3)\n",
    "\n",
    "m.setObjective(\n",
    "    Z3,\n",
    "    GRB.MINIMIZE\n",
    ")"
   ]
  },
  {
   "attachments": {},
   "cell_type": "markdown",
   "metadata": {},
   "source": [
    "## Optimizing the model"
   ]
  },
  {
   "cell_type": "code",
   "execution_count": 373,
   "metadata": {},
   "outputs": [
    {
     "name": "stdout",
     "output_type": "stream",
     "text": [
      "X:  [[[[ 0.  0.  0.  0.  0.]\n",
      "   [ 0.  0.  0.  0.  0.]\n",
      "   [ 0.  0.  0.  0.  0.]]\n",
      "\n",
      "  [[ 0.  0.  1.  0.  0.]\n",
      "   [ 1.  1.  0.  0.  0.]\n",
      "   [ 0.  0.  0.  0.  0.]]\n",
      "\n",
      "  [[ 0.  0.  0.  0.  1.]\n",
      "   [ 0.  0.  0.  0.  0.]\n",
      "   [ 0.  0.  0.  0.  0.]]\n",
      "\n",
      "  [[ 0.  0.  0.  0.  0.]\n",
      "   [ 0.  0.  0.  1.  0.]\n",
      "   [ 0.  0.  0.  0.  0.]]\n",
      "\n",
      "  [[ 0.  0.  0.  0.  0.]\n",
      "   [ 0.  0.  0.  0.  0.]\n",
      "   [ 0.  0.  0.  0.  0.]]]\n",
      "\n",
      "\n",
      " [[[ 0.  0.  1.  0.  0.]\n",
      "   [ 1.  0.  0.  0.  0.]\n",
      "   [ 0.  0.  0.  0.  0.]]\n",
      "\n",
      "  [[ 0.  0.  0.  0.  0.]\n",
      "   [ 0.  0.  0.  0.  0.]\n",
      "   [-0. -0. -0. -0. -0.]]\n",
      "\n",
      "  [[ 0.  0.  0.  0.  0.]\n",
      "   [ 0.  0.  0.  0.  0.]\n",
      "   [ 0.  0.  0.  0.  1.]]\n",
      "\n",
      "  [[ 0.  0.  0.  0.  0.]\n",
      "   [ 0.  0.  0.  0.  0.]\n",
      "   [ 0.  0.  0.  1.  0.]]\n",
      "\n",
      "  [[ 0.  0.  0.  0.  0.]\n",
      "   [ 0.  0.  0.  0.  0.]\n",
      "   [ 0.  0.  0.  0.  0.]]]\n",
      "\n",
      "\n",
      " [[[ 0.  0.  0.  0.  0.]\n",
      "   [ 0.  0.  0.  0.  0.]\n",
      "   [ 1.  0.  0.  0.  0.]]\n",
      "\n",
      "  [[ 0.  0.  0.  0.  0.]\n",
      "   [ 0.  0.  0.  0.  0.]\n",
      "   [ 0.  0.  0.  0.  0.]]\n",
      "\n",
      "  [[ 0.  0.  0.  0.  0.]\n",
      "   [-0. -0. -0. -0. -0.]\n",
      "   [ 0.  0.  0.  0.  1.]]\n",
      "\n",
      "  [[-0. -0. -0. -0. -0.]\n",
      "   [ 0.  1.  0.  0.  0.]\n",
      "   [ 0.  0.  0.  0.  0.]]\n",
      "\n",
      "  [[-0. -0. -0. -0. -0.]\n",
      "   [-0. -0. -0. -0. -0.]\n",
      "   [ 0.  0.  0.  1.  0.]]]] \n",
      "\n",
      "Y:  [1. 1. 1. 1. 0.] \n",
      "\n",
      "L:  [0. 0. 0. 0. 0.] \n",
      "\n",
      "E:  [3. 3. 4. 3. 5.] \n",
      "\n",
      "objective:  70.0\n"
     ]
    }
   ],
   "source": [
    "# Paramétrage (mode mute)\n",
    "m.params.outputflag = 0\n",
    "# Résolution du PL\n",
    "m.optimize()\n",
    "print(\"X: \", X.X, \"\\n\")\n",
    "print(\"Y: \", Y.X, \"\\n\")\n",
    "print(\"L: \", L.X, \"\\n\")\n",
    "print(\"E: \", E.X, \"\\n\")\n",
    "print(\"objective: \", m.objVal)"
   ]
  },
  {
   "cell_type": "code",
   "execution_count": 374,
   "metadata": {},
   "outputs": [],
   "source": [
    "matE = E.X\n",
    "matX = X.X\n",
    "matY = Y.X\n",
    "matL = L.X"
   ]
  },
  {
   "attachments": {},
   "cell_type": "markdown",
   "metadata": {},
   "source": [
    "# Visualizing"
   ]
  },
  {
   "cell_type": "code",
   "execution_count": 375,
   "metadata": {},
   "outputs": [
    {
     "data": {
      "image/png": "[encoded data removed]",
      "text/plain": [
       "<Figure size 640x480 with 1 Axes>"
      ]
     },
     "metadata": {},
     "output_type": "display_data"
    }
   ],
   "source": [
    "import matplotlib.pyplot as plt\n",
    "\n",
    "personid = 0\n",
    "projectid = 1\n",
    "person0 = matX[personid]\n",
    "fig, ax = plt.subplots()\n",
    "\n",
    "# hide axes\n",
    "fig.patch.set_visible(False)\n",
    "ax.axis('off')\n",
    "ax.axis('tight')\n",
    "\n",
    "ax.table(cellText=person0[projectid], colLabels=[k for k in range(H)], rowLabels=[\"A\", \"B\", \"C\"], loc='center')\n",
    "plt.title(f\"Person: {S[personid + 1]['name']}, Projet: {J[projectid + 1]['name']}\", color=\"white\")\n",
    "plt.show()"
   ]
  },
  {
   "cell_type": "code",
   "execution_count": 376,
   "metadata": {},
   "outputs": [],
   "source": [
    "def rendu_tot():\n",
    "    for j in range(len(J)):\n",
    "        if matE[j] < J[j][\"due_date\"]:\n",
    "            print(\"Yes\")\n",
    "rendu_tot()"
   ]
  },
  {
   "cell_type": "code",
   "execution_count": 377,
   "metadata": {},
   "outputs": [
    {
     "name": "stdout",
     "output_type": "stream",
     "text": [
      "1.0\n",
      "1.0\n",
      "1.0\n",
      "1.0\n",
      "1.0\n",
      "1.0\n",
      "0.0\n",
      "1.0\n",
      "1.0\n",
      "1.0\n",
      "1.0\n",
      "1.0\n",
      "0.0\n",
      "1.0\n",
      "1.0\n"
     ]
    }
   ],
   "source": [
    "for i in range(len(S)):\n",
    "    for t in range(H):\n",
    "        res = 0\n",
    "        for j in range(len(J)):\n",
    "            for k in range(len(Q)):\n",
    "                res += matX[i, j, k, t]\n",
    "        print(res)"
   ]
  }
 ],
 "metadata": {
  "kernelspec": {
   "display_name": "Python 3",
   "language": "python",
   "name": "python3"
  },
  "language_info": {
   "codemirror_mode": {
    "name": "ipython",
    "version": 3
   },
   "file_extension": ".py",
   "mimetype": "text/x-python",
   "name": "python",
   "nbconvert_exporter": "python",
   "pygments_lexer": "ipython3",
   "version": "3.9.6"
  },
  "orig_nbformat": 4,
  "vscode": {
   "interpreter": {
    "hash": "31f2aee4e71d21fbe5cf8b01ff0e069b9275f58929596ceb00d14d90e3e16cd6"
   }
  }
 },
 "nbformat": 4,
 "nbformat_minor": 2
}
