{
 "cells": [
  {
   "cell_type": "code",
   "execution_count": 46,
   "metadata": {},
   "outputs": [],
   "source": [
    "from gurobipy import *\n",
    "import random as rd\n",
    "import json"
   ]
  },
  {
   "cell_type": "code",
   "execution_count": 47,
   "metadata": {},
   "outputs": [],
   "source": [
    "# Opening JSON file\n",
    "f = open('/Users/cha/Desktop/Code/optimization-project/data/small.json')\n",
    "  \n",
    "# returns JSON object as \n",
    "# a dictionary\n",
    "data = json.load(f)\n",
    "data.keys()\n",
    "f.close()"
   ]
  },
  {
   "cell_type": "code",
   "execution_count": 48,
   "metadata": {},
   "outputs": [
    {
     "data": {
      "text/plain": [
       "[{'name': 'Olivia', 'qualifications': ['A', 'B', 'C'], 'vacations': []},\n",
       " {'name': 'Liam', 'qualifications': ['A', 'B'], 'vacations': [1]},\n",
       " {'name': 'Emma', 'qualifications': ['C'], 'vacations': [2]}]"
      ]
     },
     "execution_count": 48,
     "metadata": {},
     "output_type": "execute_result"
    }
   ],
   "source": [
    "data['staff']"
   ]
  },
  {
   "cell_type": "code",
   "execution_count": 49,
   "metadata": {},
   "outputs": [
    {
     "data": {
      "text/plain": [
       "[{'name': 'Job1',\n",
       "  'gain': 20,\n",
       "  'due_date': 3,\n",
       "  'daily_penalty': 3,\n",
       "  'working_days_per_qualification': {'A': 1, 'B': 1, 'C': 1}},\n",
       " {'name': 'Job2',\n",
       "  'gain': 15,\n",
       "  'due_date': 3,\n",
       "  'daily_penalty': 3,\n",
       "  'working_days_per_qualification': {'A': 1, 'B': 2}},\n",
       " {'name': 'Job3',\n",
       "  'gain': 15,\n",
       "  'due_date': 4,\n",
       "  'daily_penalty': 3,\n",
       "  'working_days_per_qualification': {'A': 1, 'C': 2}},\n",
       " {'name': 'Job4',\n",
       "  'gain': 20,\n",
       "  'due_date': 3,\n",
       "  'daily_penalty': 3,\n",
       "  'working_days_per_qualification': {'B': 2, 'C': 1}},\n",
       " {'name': 'Job5',\n",
       "  'gain': 10,\n",
       "  'due_date': 5,\n",
       "  'daily_penalty': 3,\n",
       "  'working_days_per_qualification': {'C': 2}}]"
      ]
     },
     "execution_count": 49,
     "metadata": {},
     "output_type": "execute_result"
    }
   ],
   "source": [
    "data['jobs']"
   ]
  },
  {
   "attachments": {},
   "cell_type": "markdown",
   "metadata": {},
   "source": [
    "- Xi,j,k,t ∈ {0, 1} vaut 1 si la personne i r´ealise une qualification q pour le projet j pendant la\n",
    "journ´ee t, 0 sinon, pour i ∈ S, j ∈ J , k ∈ Q, t ∈ H.\n",
    "- Yj ∈ {0, 1} vaut 1 si le projet j est réalisé totalement, 0 sinon, j ∈ J\n",
    "- Lj nombre de jours de retard pour le projet j ∈ J\n",
    "- Ej date de fin de réalisation du projet j ∈ J"
   ]
  },
  {
   "cell_type": "code",
   "execution_count": 50,
   "metadata": {},
   "outputs": [],
   "source": [
    "# Instanciation du modèle\n",
    "m = Model(\"Simple PL modelling\")\n",
    "\n",
    "# Création de variables\n",
    "with open('/Users/cha/Desktop/Code/optimization-project/data/small.json') as f:\n",
    "    data = json.load(f)\n",
    "\n",
    "S = data['staff']\n",
    "J = data['jobs']\n",
    "Q = data['qualifications']\n",
    "H = data['horizon']\n",
    "\n",
    "X = m.addMVar(shape=(len(S), len(J), len(Q), H), vtype=GRB.BINARY)\n",
    "Y = m.addMVar(shape=len(J), vtype=GRB.BINARY)\n",
    "L = m.addMVar(shape=len(J))\n",
    "E = m.addMVar(shape=len(J))\n",
    "# maj du modèle\n",
    "m.update()"
   ]
  },
  {
   "attachments": {},
   "cell_type": "markdown",
   "metadata": {},
   "source": [
    "Le modèle dans son intégralité est donné ci-dessous :\n",
    "\n",
    "max P\n",
    "j∈J (Yj × gj − Lj × cj )\n",
    "\n",
    "s.t. X\n",
    "j∈J\n",
    "k∈Q\n",
    "Xi,j,k,t ≤ 1 ∀ i ∈ S, ∀ t ∈ H\n",
    "\n",
    "X\n",
    "j∈J\n",
    "k∈Q\n",
    "Xi,j,k,t = 0 ∀ i ∈ S, ∀ t ∈ Vi\n",
    "\n",
    "Xi,j,k,t = 0 ∀ i ∈ S, ∀ j ∈ J , ∀ k ∈ Q | k /∈ QS\n",
    "i ∨ k /∈ QJ\n",
    "j\n",
    ", ∀ t ∈ H\n",
    "\n",
    "Yj × nj,k ≤\n",
    "X\n",
    "i∈S\n",
    "t∈H\n",
    "Xi,j,k,t ∀ j ∈ J , ∀ k ∈ QJ\n",
    "j\n",
    "\n",
    "X\n",
    "i∈S\n",
    "t∈H\n",
    "Xi,j,k,t ≤ nj,k ∀ j ∈ J , ∀ k ∈ QJ\n",
    "j\n",
    "\n",
    "Xi,j,k,t × t ≤ Ej ∀ i ∈ S, ∀ j ∈ J , ∀ k ∈ Q, ∀ t ∈ H\n",
    "\n",
    "Ej − dj ≤ Lj ∀ j ∈ J\n",
    "\n",
    "\n",
    "Xi,j,k,t ∈ {0, 1} ∀ i ∈ S, ∀ j ∈ J , ∀ k ∈ Q, ∀ t ∈ H\n",
    "\n",
    "Yj ∈ {0, 1} ∀ j ∈ J\n",
    "\n",
    "Ej ∈ H ∀ j ∈ J\n",
    "\n",
    "Lj ∈ N ∀ j ∈ J"
   ]
  },
  {
   "cell_type": "code",
   "execution_count": 51,
   "metadata": {},
   "outputs": [
    {
     "ename": "TypeError",
     "evalue": "addConstr() takes at least 2 positional arguments (1 given)",
     "output_type": "error",
     "traceback": [
      "\u001b[0;31m---------------------------------------------------------------------------\u001b[0m",
      "\u001b[0;31mTypeError\u001b[0m                                 Traceback (most recent call last)",
      "Cell \u001b[0;32mIn[51], line 53\u001b[0m\n\u001b[1;32m     48\u001b[0m         m\u001b[39m.\u001b[39maddConstr(c4(X, j, k) \u001b[39m<\u001b[39m\u001b[39m=\u001b[39m njk)\n\u001b[1;32m     50\u001b[0m \u001b[39m# C6\u001b[39;00m\n\u001b[0;32m---> 53\u001b[0m m\u001b[39m.\u001b[39;49maddConstr()\n\u001b[1;32m     54\u001b[0m m\u001b[39m.\u001b[39maddConstr()\n\u001b[1;32m     55\u001b[0m \u001b[39m# Fonction Objectif\u001b[39;00m\n",
      "File \u001b[0;32msrc/gurobipy/model.pxi:3577\u001b[0m, in \u001b[0;36mgurobipy.Model.addConstr\u001b[0;34m()\u001b[0m\n",
      "\u001b[0;31mTypeError\u001b[0m: addConstr() takes at least 2 positional arguments (1 given)"
     ]
    }
   ],
   "source": [
    "def c1(x, i, t):\n",
    "    res = 0\n",
    "    for j, k in zip(range(len(J)), range(len(Q))):\n",
    "        res += x[i, j, k, t]\n",
    "    return res\n",
    "\n",
    "def c4(x, j, k):\n",
    "    res = 0\n",
    "    for i, t in zip(range(len(S)), range(H)):\n",
    "        res += x[i, j, k, t]\n",
    "    return res\n",
    "\n",
    "\n",
    "# C1\n",
    "for i, t in zip(range(len(S)), range(H)):\n",
    "    m.addConstr(c1(X, i, t) <= 1)\n",
    "\n",
    "# C2\n",
    "for i in range(len(S)):\n",
    "    person = S[i]\n",
    "    for t in person['vacations']:\n",
    "        m.addConstr(c1(X, i, t) == 0)\n",
    "\n",
    "# C3\n",
    "for i in range(len(S)):\n",
    "    person = S[i]\n",
    "    for j in range(len(J)):\n",
    "        job = J[j]\n",
    "        for k in range(len(Q)):\n",
    "            if k not in person['qualifications'] and k not in list(job['working_days_per_qualification'].keys()):\n",
    "                for t in range(H):\n",
    "                    m.addConstr(X[i, j, k, t] == 0)\n",
    "\n",
    "# C4\n",
    "for j in range(len(J)):\n",
    "    job = J[j]\n",
    "    qualifications = list(job['working_days_per_qualification'].keys())\n",
    "    for k in range(len(qualifications)):\n",
    "        njk = job['working_days_per_qualification'][qualifications[k]]\n",
    "        m.addConstr(Y[j]*njk <= c4(X, j, k))\n",
    "\n",
    "# C5\n",
    "for j in range(len(J)):\n",
    "    job = J[j]\n",
    "    qualifications = list(job['working_days_per_qualification'].keys())\n",
    "    for k in range(len(qualifications)):\n",
    "        njk = job['working_days_per_qualification'][qualifications[k]]\n",
    "        m.addConstr(c4(X, j, k) <= njk)\n",
    "\n",
    "# C6\n",
    "for i in range(len(S)):\n",
    "    for j in range(len(J)):\n",
    "        for k in range(len(Q)):\n",
    "            for t in range(H):\n",
    "                m.addConstr(X[i, j, k, t]*t <= E[j])\n",
    "\n",
    "# C7\n",
    "for j in range(len(J)):\n",
    "    m.addConstr(E[j])\n",
    "\n",
    "\n",
    "m.addConstr()\n",
    "m.addConstr()\n",
    "# Fonction Objectif\n",
    "m.setObjective(\n",
    "    hfuighve,\n",
    "    GRB.MAXIMIZE\n",
    ")   \n",
    "# Paramétrage (mode mute)\n",
    "m.params.outputflag = 0"
   ]
  },
  {
   "attachments": {},
   "cell_type": "markdown",
   "metadata": {},
   "source": [
    "## Tuto internet"
   ]
  },
  {
   "cell_type": "code",
   "execution_count": null,
   "metadata": {},
   "outputs": [],
   "source": [
    "import gurobipy as gp\n",
    "from gurobipy import GRB\n",
    "import numpy as np\n",
    "import scipy.sparse as sp"
   ]
  },
  {
   "cell_type": "code",
   "execution_count": null,
   "metadata": {},
   "outputs": [
    {
     "name": "stdout",
     "output_type": "stream",
     "text": [
      "Gurobi Optimizer version 10.0.0 build v10.0.0rc2 (mac64[arm])\n",
      "\n",
      "CPU model: Apple M2\n",
      "Thread count: 8 physical cores, 8 logical processors, using up to 8 threads\n",
      "\n",
      "Optimize a model with 2 rows, 3 columns and 5 nonzeros\n",
      "Model fingerprint: 0x8d4960d3\n",
      "Variable types: 0 continuous, 3 integer (3 binary)\n",
      "Coefficient statistics:\n",
      "  Matrix range     [1e+00, 3e+00]\n",
      "  Objective range  [1e+00, 2e+00]\n",
      "  Bounds range     [1e+00, 1e+00]\n",
      "  RHS range        [1e+00, 4e+00]\n",
      "Found heuristic solution: objective 2.0000000\n",
      "Presolve removed 2 rows and 3 columns\n",
      "Presolve time: 0.00s\n",
      "Presolve: All rows and columns removed\n",
      "\n",
      "Explored 0 nodes (0 simplex iterations) in 0.00 seconds (0.00 work units)\n",
      "Thread count was 1 (of 8 available processors)\n",
      "\n",
      "Solution count 2: 3 2 \n",
      "\n",
      "Optimal solution found (tolerance 1.00e-04)\n",
      "Best objective 3.000000000000e+00, best bound 3.000000000000e+00, gap 0.0000%\n",
      "here [1. 0. 1.]\n",
      "Obj: 3\n"
     ]
    }
   ],
   "source": [
    "# Create a new model\n",
    "m = gp.Model(\"matrix1\")\n",
    "\n",
    "# Create variables\n",
    "x = m.addMVar(shape=3, vtype=GRB.BINARY, name=\"x\")\n",
    "\n",
    "# Set objective\n",
    "obj = np.array([1.0, 1.0, 2.0])\n",
    "m.setObjective(obj @ x, GRB.MAXIMIZE)\n",
    "\n",
    "# Build (sparse) constraint matrix\n",
    "val = np.array([1.0, 2.0, 3.0, -1.0, -1.0])\n",
    "row = np.array([0, 0, 0, 1, 1])\n",
    "col = np.array([0, 1, 2, 0, 1])\n",
    "\n",
    "A = sp.csr_matrix((val, (row, col)), shape=(2, 3))\n",
    "\n",
    "# Build rhs vector\n",
    "rhs = np.array([4.0, -1.0])\n",
    "\n",
    "# Add constraints\n",
    "m.addConstr(A @ x <= rhs, name=\"c\")\n",
    "\n",
    "# Optimize model\n",
    "m.optimize()\n",
    "\n",
    "print(\"here\", x.X)\n",
    "print('Obj: %g' % m.ObjVal)"
   ]
  },
  {
   "cell_type": "code",
   "execution_count": null,
   "metadata": {},
   "outputs": [],
   "source": [
    "# Résolution du PL\n",
    "m.optimize()\n",
    "print(\"La solution optimale est (v0, v1) = {} avec pour objectif z = {}\".format((v0.x, v1.x), m.objVal))"
   ]
  }
 ],
 "metadata": {
  "kernelspec": {
   "display_name": "Python 3",
   "language": "python",
   "name": "python3"
  },
  "language_info": {
   "codemirror_mode": {
    "name": "ipython",
    "version": 3
   },
   "file_extension": ".py",
   "mimetype": "text/x-python",
   "name": "python",
   "nbconvert_exporter": "python",
   "pygments_lexer": "ipython3",
   "version": "3.9.6"
  },
  "orig_nbformat": 4,
  "vscode": {
   "interpreter": {
    "hash": "31f2aee4e71d21fbe5cf8b01ff0e069b9275f58929596ceb00d14d90e3e16cd6"
   }
  }
 },
 "nbformat": 4,
 "nbformat_minor": 2
}
