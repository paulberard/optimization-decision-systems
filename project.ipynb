{
 "cells": [
  {
   "cell_type": "code",
   "execution_count": 116,
   "metadata": {},
   "outputs": [],
   "source": [
    "from gurobipy import *\n",
    "import random as rd\n",
    "import json\n",
    "import pandas as pd"
   ]
  },
  {
   "attachments": {},
   "cell_type": "markdown",
   "metadata": {},
   "source": [
    "### Rapide visualisation des données"
   ]
  },
  {
   "cell_type": "code",
   "execution_count": 117,
   "metadata": {},
   "outputs": [],
   "source": [
    "path = './data/medium.json'\n",
    "f = open(path)\n",
    "data = json.load(f)\n",
    "data.keys()\n",
    "f.close()"
   ]
  },
  {
   "cell_type": "code",
   "execution_count": 118,
   "metadata": {},
   "outputs": [
    {
     "data": {
      "text/plain": [
       "(22, ['F', 'G', 'A', 'D', 'J', 'C', 'H', 'E', 'B', 'I'])"
      ]
     },
     "execution_count": 118,
     "metadata": {},
     "output_type": "execute_result"
    }
   ],
   "source": [
    "data['horizon'], data['qualifications']"
   ]
  },
  {
   "cell_type": "code",
   "execution_count": 119,
   "metadata": {},
   "outputs": [
    {
     "data": {
      "text/plain": [
       "[{'name': 'Olivia', 'qualifications': ['A', 'B', 'C'], 'vacations': [1, 2]},\n",
       " {'name': 'Liam', 'qualifications': ['A', 'D', 'E'], 'vacations': [1, 2]},\n",
       " {'name': 'Emma', 'qualifications': ['B', 'H'], 'vacations': [8, 9]},\n",
       " {'name': 'Noah',\n",
       "  'qualifications': ['G', 'D', 'J', 'C', 'H', 'I'],\n",
       "  'vacations': []},\n",
       " {'name': 'Amelia',\n",
       "  'qualifications': ['F', 'G', 'J', 'E'],\n",
       "  'vacations': [16, 15]}]"
      ]
     },
     "execution_count": 119,
     "metadata": {},
     "output_type": "execute_result"
    }
   ],
   "source": [
    "data['staff']"
   ]
  },
  {
   "cell_type": "code",
   "execution_count": 120,
   "metadata": {},
   "outputs": [
    {
     "data": {
      "text/plain": [
       "{'name': 'Job1',\n",
       " 'gain': 15,\n",
       " 'due_date': 20,\n",
       " 'daily_penalty': 3,\n",
       " 'working_days_per_qualification': {'A': 4, 'B': 4}}"
      ]
     },
     "execution_count": 120,
     "metadata": {},
     "output_type": "execute_result"
    }
   ],
   "source": [
    "data['jobs'][0]"
   ]
  },
  {
   "attachments": {},
   "cell_type": "markdown",
   "metadata": {},
   "source": [
    "## Modèle et variables"
   ]
  },
  {
   "cell_type": "code",
   "execution_count": 121,
   "metadata": {},
   "outputs": [],
   "source": [
    "# Instanciation du modèle\n",
    "m = Model()\n",
    "\n",
    "# Chargement des données\n",
    "path = './data/small.json'\n",
    "with open(path) as f:\n",
    "    data = json.load(f)\n",
    "\n",
    "# Constantes\n",
    "S = data['staff']\n",
    "J = data['jobs']\n",
    "Q = data['qualifications']\n",
    "H = data['horizon']\n",
    "\n",
    "# Création de variables\n",
    "X = m.addMVar(shape=(len(S), len(J), len(Q), H), vtype=GRB.BINARY)\n",
    "Y = m.addMVar(shape=len(J), vtype=GRB.BINARY)\n",
    "L = m.addMVar(shape=len(J), vtype=GRB.INTEGER)\n",
    "E = m.addMVar(shape=len(J), vtype=GRB.INTEGER)\n",
    "\n",
    "works_on_job = m.addMVar(shape=(len(S), len(J)), vtype=GRB.BINARY)\n",
    "max_nb_of_jobs = m.addVar(vtype=GRB.INTEGER)\n",
    "\n",
    "job_worked_on = m.addMVar(shape=(len(J), H), vtype=GRB.BINARY)\n",
    "max_duration_of_jobs = m.addVar(vtype=GRB.INTEGER)\n",
    "\n",
    "start_date_projects = m.addMVar(shape=len(J), vtype=GRB.INTEGER)\n",
    "\n",
    "# maj du modèle\n",
    "m.update()"
   ]
  },
  {
   "attachments": {},
   "cell_type": "markdown",
   "metadata": {},
   "source": [
    "## Définition des contraintes"
   ]
  },
  {
   "cell_type": "code",
   "execution_count": 122,
   "metadata": {},
   "outputs": [],
   "source": [
    "# C1: Sur un jour donné, une personne est maximum sur une compétence d'un seul projet\n",
    "for i in range(len(S)):\n",
    "    for t in range(H):\n",
    "        m.addConstr(X[i, :, :, t].sum() <= 1)\n",
    "\n",
    "# C2: Les membres du personnel ne travaillent pas sur leurs jours de congés\n",
    "for i in range(len(S)):\n",
    "    person = S[i]\n",
    "    for t in person['vacations']:\n",
    "            m.addConstr(X[i, :, :, t - 1].sum() == 0)\n",
    "\n",
    "# C3: Un membre du personnel ne peut pas travailler sur un projet si il n'a pas une des compétences requises\n",
    "for i in range(len(S)):\n",
    "    person = S[i]\n",
    "    for j in range(len(J)):\n",
    "        job = J[j]\n",
    "        for k in range(len(Q)):\n",
    "            qualification = Q[k]\n",
    "            if (qualification not in person['qualifications']) or (qualification not in list(job['working_days_per_qualification'].keys())):\n",
    "                m.addConstr(X[i, j, k, :].sum() == 0)\n",
    "\n",
    "\n",
    "for j in range(len(J)):\n",
    "    job = J[j]\n",
    "    for k in range(len(Q)):\n",
    "        qualification = Q[k]\n",
    "        if qualification in list(job['working_days_per_qualification'].keys()):\n",
    "            njk = job['working_days_per_qualification'][qualification]\n",
    "\n",
    "            # C4: Si le projet est réalisé, alors le nombre de jours mobilisé sur chaque compétence\n",
    "            # du projet est au moins égal au nombre de jours requis\n",
    "            m.addConstr(Y[j] * njk <= X[:, j, k, :].sum())\n",
    "\n",
    "            # C5: Le nombre de jours passé sur chaque compétence du projet est au maximum égal\n",
    "            # au nombre de jours requis\n",
    "            m.addConstr(X[:, j, k, :].sum() <= njk)\n",
    "\n",
    "\n",
    "for j in range(len(J)):\n",
    "    # C7: Le nombre de jours de retard est au moins égal à l'écart entre la due date et la date de rendu\n",
    "    job = J[j]\n",
    "    dj = job[\"due_date\"]\n",
    "    m.addConstr(E[j] - dj <= L[j])\n",
    "\n",
    "    # Lj >= 0\n",
    "    m.addConstr(L[j] >= 0)\n",
    "\n",
    "\n",
    "# Définition de works_on_job : Indique si la personne i travaille sur le projet j\n",
    "for i in range(len(S)):\n",
    "    for j in range(len(J)):\n",
    "        res = X[i, j].sum()\n",
    "        m.addConstr(res <= 10000 * works_on_job[i, j]) # res >= 1 => works_on_job[i, j] = 1\n",
    "        m.addConstr(res - 1 >= - 10000 * (1 - works_on_job[i, j])) # works_on_job[i, j] = 1 => res >= 1\n",
    "\n",
    "\n",
    "# Définition de job_worked_on : Indique si quelqu'un a travaillé sur le projet j le jour t\n",
    "for j in range(len(J)):\n",
    "    for t in range(H):\n",
    "        res = X[:, j, :, t].sum()\n",
    "        m.addConstr(res <= 10000 * job_worked_on[j, t]) # res >= 1 => job_worked_on[i, j] = 1\n",
    "        m.addConstr(res - 1 >= - 10000 * (1 - job_worked_on[j, t])) # job_worked_on[i, j] = 1 => res >= 1\n",
    "\n",
    "\n",
    "for j in range(len(J)):\n",
    "    # start_date_projects > 0\n",
    "    m.addConstr(start_date_projects[j] >= 1)\n",
    "    # start_date_projects <= H\n",
    "    m.addConstr(start_date_projects[j] <= H)\n",
    "    # Ej > 0\n",
    "    m.addConstr(E[j] >= 1)\n",
    "    # Ej <= H\n",
    "    m.addConstr(E[j] <= H)\n",
    "    for t in range(H):\n",
    "        # C6: Personne ne travaille sur un projet déjà fini\n",
    "        m.addConstr(job_worked_on[j, t] * t <= E[j] - 1)\n",
    "        # Définition de start_date_projects\n",
    "        m.addConstr(start_date_projects[j] - 1 <= t * job_worked_on[j, t])\n",
    "\n",
    "\n",
    "# Définition de max_nb_of_jobs: Maxium number of jobs of the staff\n",
    "for i in range(len(S)):\n",
    "    m.addConstr(works_on_job[i].sum() <= max_nb_of_jobs)\n",
    "\n",
    "# Contrainte de définition de max_len_job: Duration of the longest job\n",
    "for j in range(len(J)):\n",
    "    m.addConstr(max_duration_of_jobs >= E[j] - start_date_projects[j])\n",
    "\n",
    "\n",
    "m.update()"
   ]
  },
  {
   "attachments": {},
   "cell_type": "markdown",
   "metadata": {},
   "source": [
    "## Définition des fonctions objectifs"
   ]
  },
  {
   "attachments": {},
   "cell_type": "markdown",
   "metadata": {},
   "source": [
    "### Fonction objectif 1 : Maximiser le bénéfice"
   ]
  },
  {
   "cell_type": "code",
   "execution_count": 123,
   "metadata": {},
   "outputs": [],
   "source": [
    "def benefice(J, Y, L):\n",
    "    res = 0\n",
    "    for j in range(len(J)):\n",
    "        job = J[j]\n",
    "        gj = job[\"gain\"]\n",
    "        cj = job[\"daily_penalty\"]\n",
    "        res += (Y[j] * gj - L[j] * cj)\n",
    "    return res\n",
    "\n",
    "m.setObjectiveN(\n",
    "    - benefice(J, Y, L),\n",
    "    0,\n",
    "    1\n",
    ")"
   ]
  },
  {
   "attachments": {},
   "cell_type": "markdown",
   "metadata": {},
   "source": [
    "### Fonction objectif 2 : Minimiser le nombre de projets sur lesquels un quelconque collaborateur est affecté"
   ]
  },
  {
   "cell_type": "code",
   "execution_count": 124,
   "metadata": {},
   "outputs": [],
   "source": [
    "m.setObjectiveN(\n",
    "    max_nb_of_jobs,\n",
    "    1,\n",
    "    0\n",
    ")"
   ]
  },
  {
   "attachments": {},
   "cell_type": "markdown",
   "metadata": {},
   "source": [
    "### Fonction objectif 3 : Executer le projet le plus long en un minimum de jours"
   ]
  },
  {
   "cell_type": "code",
   "execution_count": 125,
   "metadata": {},
   "outputs": [],
   "source": [
    "m.setObjectiveN(\n",
    "    max_duration_of_jobs,\n",
    "    2,\n",
    "    0\n",
    ")"
   ]
  },
  {
   "attachments": {},
   "cell_type": "markdown",
   "metadata": {},
   "source": [
    "## Résolution du problème"
   ]
  },
  {
   "cell_type": "code",
   "execution_count": 126,
   "metadata": {},
   "outputs": [
    {
     "name": "stdout",
     "output_type": "stream",
     "text": [
      "Gurobi Optimizer version 10.0.0 build v10.0.0rc2 (mac64[arm])\n",
      "\n",
      "CPU model: Apple M2\n",
      "Thread count: 8 physical cores, 8 logical processors, using up to 8 threads\n",
      "\n",
      "Optimize a model with 230 rows, 287 columns and 1828 nonzeros\n",
      "Model fingerprint: 0xbbb0e6f2\n",
      "Variable types: 0 continuous, 287 integer (270 binary)\n",
      "Coefficient statistics:\n",
      "  Matrix range     [1e+00, 1e+04]\n",
      "  Objective range  [1e+00, 2e+01]\n",
      "  Bounds range     [1e+00, 1e+00]\n",
      "  RHS range        [1e+00, 1e+04]\n",
      "\n",
      "---------------------------------------------------------------------------\n",
      "Multi-objectives: starting optimization with 3 objectives (2 combined) ...\n",
      "---------------------------------------------------------------------------\n",
      "\n",
      "Multi-objectives: applying initial presolve ...\n",
      "---------------------------------------------------------------------------\n",
      "\n",
      "Presolve removed 95 rows and 143 columns\n",
      "Presolve time: 0.00s\n",
      "Presolved: 135 rows and 144 columns\n",
      "---------------------------------------------------------------------------\n",
      "\n",
      "Multi-objectives: optimize objective 1 () ...\n",
      "---------------------------------------------------------------------------\n",
      "\n",
      "Found heuristic solution: objective 0.0000000\n",
      "Presolve removed 38 rows and 17 columns\n",
      "Presolve time: 0.00s\n",
      "Presolved: 97 rows, 127 columns, 664 nonzeros\n",
      "Variable types: 0 continuous, 127 integer (124 binary)\n",
      "\n",
      "Root relaxation: objective -7.366667e+01, 119 iterations, 0.00 seconds (0.00 work units)\n",
      "\n",
      "    Nodes    |    Current Node    |     Objective Bounds      |     Work\n",
      " Expl Unexpl |  Obj  Depth IntInf | Incumbent    BestBd   Gap | It/Node Time\n",
      "\n",
      "     0     0  -73.66667    0   11    0.00000  -73.66667      -     -    0s\n",
      "H    0     0                     -59.0000000  -73.66667  24.9%     -    0s\n",
      "     0     0  -67.33333    0   25  -59.00000  -67.33333  14.1%     -    0s\n",
      "H    0     0                     -61.0000000  -67.33333  10.4%     -    0s\n",
      "     0     0  -66.00000    0    8  -61.00000  -66.00000  8.20%     -    0s\n",
      "H    0     0                     -64.0000000  -66.00000  3.12%     -    0s\n",
      "     0     0  -66.00000    0   14  -64.00000  -66.00000  3.12%     -    0s\n",
      "H    0     0                     -65.0000000  -65.50000  0.77%     -    0s\n",
      "     0     0  -65.00000    0   10  -65.00000  -65.00000  0.00%     -    0s\n",
      "\n",
      "Cutting planes:\n",
      "  Gomory: 3\n",
      "  Cover: 3\n",
      "  MIR: 1\n",
      "  Zero half: 1\n",
      "  RLT: 1\n",
      "\n",
      "Explored 1 nodes (314 simplex iterations) in 0.03 seconds (0.01 work units)\n",
      "Thread count was 8 (of 8 available processors)\n",
      "\n",
      "Solution count 5: -65 -64 -61 ... 0\n",
      "No other solutions better than -65\n",
      "\n",
      "Optimal solution found (tolerance 1.00e-04)\n",
      "Best objective -6.500000000000e+01, best bound -6.500000000000e+01, gap 0.0000%\n",
      "---------------------------------------------------------------------------\n",
      "\n",
      "Multi-objectives: optimize objective 2 (weighted) ...\n",
      "---------------------------------------------------------------------------\n",
      "\n",
      "\n",
      "Loaded user MIP start with objective 8\n",
      "\n",
      "Presolve removed 9 rows and 6 columns\n",
      "Presolve time: 0.00s\n",
      "Presolved: 127 rows, 138 columns, 714 nonzeros\n",
      "Variable types: 0 continuous, 138 integer (129 binary)\n",
      "\n",
      "Root relaxation: objective 1.856960e+00, 194 iterations, 0.00 seconds (0.00 work units)\n",
      "\n",
      "    Nodes    |    Current Node    |     Objective Bounds      |     Work\n",
      " Expl Unexpl |  Obj  Depth IntInf | Incumbent    BestBd   Gap | It/Node Time\n",
      "\n",
      "     0     0    1.85696    0   63    8.00000    1.85696  76.8%     -    0s\n",
      "H    0     0                       7.0000000    2.22446  68.2%     -    0s\n",
      "H    0     0                       6.0000000    3.09978  48.3%     -    0s\n",
      "     0     0    6.00000    0   79    6.00000    6.00000  0.00%     -    0s\n",
      "\n",
      "Cutting planes:\n",
      "  Learned: 10\n",
      "  Gomory: 19\n",
      "  Cover: 32\n",
      "  Implied bound: 6\n",
      "  Clique: 8\n",
      "  MIR: 7\n",
      "  Flow cover: 1\n",
      "  Zero half: 12\n",
      "  RLT: 9\n",
      "  Relax-and-lift: 8\n",
      "\n",
      "Explored 1 nodes (360 simplex iterations) in 0.07 seconds (0.02 work units)\n",
      "Thread count was 8 (of 8 available processors)\n",
      "\n",
      "Solution count 3: 6 7 8 \n",
      "\n",
      "Optimal solution found (tolerance 1.00e-04)\n",
      "Best objective 6.000000000000e+00, best bound 6.000000000000e+00, gap 0.0000%\n",
      "\n",
      "---------------------------------------------------------------------------\n",
      "Multi-objectives: solved in 0.08 seconds (0.02 work units), solution count 7\n",
      "\n"
     ]
    }
   ],
   "source": [
    "# # Paramétrage (mode mute)\n",
    "# m.params.outputflag = 0\n",
    "# Résolution du PL\n",
    "m.optimize()"
   ]
  },
  {
   "cell_type": "code",
   "execution_count": 127,
   "metadata": {},
   "outputs": [
    {
     "name": "stdout",
     "output_type": "stream",
     "text": [
      "Problem has 3 objectives\n",
      "Gurobi found 7 solutions\n",
      "Solution 0:   -65.0  2.0  4.0\n",
      "------------------------------\n",
      "Job done: Y = [1. 0. 1. 1. 1.]\n",
      "Delay penalty: L = [-0. -0. -0. -0. -0.]\n",
      "Finish date: E = [3. 3. 4. 3. 5.]\n",
      "Participates: works_on_job = [[0. 0. 0. 1. 1.]\n",
      " [1. 0. 1. 0. 0.]\n",
      " [1. 0. 1. 0. 0.]]\n",
      "\n",
      "Solution 1:   -65.0  3.0  4.0\n",
      "------------------------------\n",
      "Job done: Y = [1. 0. 1. 1. 1.]\n",
      "Delay penalty: L = [ 0.  0.  0.  0. -0.]\n",
      "Finish date: E = [3. 2. 4. 3. 5.]\n",
      "Participates: works_on_job = [[1. 0. 0. 1. 1.]\n",
      " [1. 0. 1. 1. 0.]\n",
      " [1. 0. 1. 0. 1.]]\n",
      "\n",
      "Solution 2:   -65.0  4.0  4.0\n",
      "------------------------------\n",
      "Job done: Y = [ 1. -0.  1.  1.  1.]\n",
      "Delay penalty: L = [ 0.  0.  0.  0. -0.]\n",
      "Finish date: E = [3. 3. 4. 3. 5.]\n",
      "Participates: works_on_job = [[ 1. -0.  1.  1.  1.]\n",
      " [ 1. -0.  1.  1.  0.]\n",
      " [ 1.  0.  1.  1.  1.]]\n",
      "\n",
      "Solution 3:   -64.00000000000003  4.0  4.0\n",
      "------------------------------\n",
      "Job done: Y = [1. 1. 1. 1. 0.]\n",
      "Delay penalty: L = [ 0.  0.  0.  2. -0.]\n",
      "Finish date: E = [3. 3. 4. 5. 5.]\n",
      "Participates: works_on_job = [[1. 1. 1. 1. 0.]\n",
      " [0. 1. 0. 1. 0.]\n",
      " [1. 0. 1. 1. 0.]]\n",
      "\n",
      "Solution 4:   -61.0  4.0  4.0\n",
      "------------------------------\n",
      "Job done: Y = [1. 1. 1. 1. 0.]\n",
      "Delay penalty: L = [ 0.  0.  1.  2. -0.]\n",
      "Finish date: E = [3. 3. 5. 5. 5.]\n",
      "Participates: works_on_job = [[1. 1. 1. 1. 0.]\n",
      " [1. 1. 1. 1. 0.]\n",
      " [1. 0. 1. 1. 1.]]\n",
      "\n",
      "Solution 5:   -59.0  5.0  4.0\n",
      "------------------------------\n",
      "Job done: Y = [1. 0. 1. 1. 1.]\n",
      "Delay penalty: L = [ 1.  0.  1.  0. -0.]\n",
      "Finish date: E = [4. 3. 5. 3. 5.]\n",
      "Participates: works_on_job = [[1. 1. 1. 1. 1.]\n",
      " [1. 1. 1. 1. 0.]\n",
      " [1. 0. 1. 1. 1.]]\n",
      "\n",
      "Solution 6:   0.0  0.0  0.0\n",
      "------------------------------\n",
      "Job done: Y = [-0. -0. -0. -0. -0.]\n",
      "Delay penalty: L = [-0. -0. -0. -0. -0.]\n",
      "Finish date: E = [1. 1. 1. 1. 1.]\n",
      "Participates: works_on_job = [[-0. -0. -0. -0. -0.]\n",
      " [-0. -0. -0. -0.  0.]\n",
      " [-0.  0. -0. -0. -0.]]\n",
      "\n"
     ]
    }
   ],
   "source": [
    "nSolutions  = m.SolCount\n",
    "nObjectives = m.NumObj\n",
    "print('Problem has', nObjectives, 'objectives')\n",
    "print('Gurobi found', nSolutions, 'solutions')\n",
    "\n",
    "solutions = []\n",
    "df = pd.DataFrame()\n",
    "for s in range(nSolutions):\n",
    "    m.params.SolutionNumber = s\n",
    "    print(f\"Solution {s}: \", end='')\n",
    "\n",
    "    values = []\n",
    "    for o in range(nObjectives):\n",
    "        m.params.ObjNumber = o\n",
    "        print(' ', m.ObjNVal, end='')\n",
    "        values.append([m.ObjNVal])\n",
    "\n",
    "    print('')\n",
    "    print('------------------------------')\n",
    "    print('Job done: Y = {}'.format(Y.Xn))\n",
    "    print('Delay penalty: L = {}'.format(L.Xn))\n",
    "    print('Finish date: E = {}'.format(E.Xn))\n",
    "    print('Participates: works_on_job = {}'.format(works_on_job.Xn))\n",
    "    solutions.append({\n",
    "        \"X\": X.Xn,\n",
    "        \"Y\": Y.Xn,\n",
    "        \"E\": E.Xn,\n",
    "        \"L\": L.Xn,\n",
    "        \"works_on_job\": works_on_job.Xn\n",
    "    })\n",
    "    print('')\n",
    "    df = pd.concat([\n",
    "        df, pd.DataFrame(values)\n",
    "    ], axis=1)\n",
    "\n",
    "df = df.T\n",
    "df.index = [k for k in range(nSolutions)]\n",
    "df.to_csv(f\"results/solutions_{path.split('/')[-1].split('.')[0]}.csv\", index=False)"
   ]
  },
  {
   "attachments": {},
   "cell_type": "markdown",
   "metadata": {},
   "source": [
    "# Visualisation des emplois du temps"
   ]
  },
  {
   "cell_type": "code",
   "execution_count": 132,
   "metadata": {},
   "outputs": [
    {
     "data": {
      "image/png": "[encoded data removed]",
      "text/plain": [
       "<Figure size 1000x300 with 1 Axes>"
      ]
     },
     "metadata": {},
     "output_type": "display_data"
    }
   ],
   "source": [
    "import matplotlib.pyplot as plt\n",
    "\n",
    "solutionid = 0 # ID de la solution à regarder\n",
    "personid = 0 # ID de la personne à regarder\n",
    "job_id = 0 # ID du jour à regarder\n",
    "\n",
    "solution = solutions[solutionid]\n",
    "matX = solution[\"X\"]\n",
    "person0 = matX[personid]\n",
    "\n",
    "fig, ax = plt.subplots()\n",
    "fig.set_size_inches((10, 3))\n",
    "\n",
    "ax.axis('off')\n",
    "ax.axis('tight')\n",
    "ax.table(\n",
    "    cellText=person0[job_id],\n",
    "    colLabels=[f\"Jour {k}\" for k in range(H)],\n",
    "    rowLabels=[f\"Compétence {k}\" for k in Q], loc='center'\n",
    ")\n",
    "plt.title(f\"Emploi du temps de {S[personid]['name']} pour le {J[job_id]['name']} (solution {solutionid})\")\n",
    "plt.show()\n"
   ]
  },
  {
   "cell_type": "code",
   "execution_count": 130,
   "metadata": {},
   "outputs": [
    {
     "data": {
      "image/png": "[encoded data removed]",
      "text/plain": [
       "<Figure size 1000x200 with 1 Axes>"
      ]
     },
     "metadata": {},
     "output_type": "display_data"
    }
   ],
   "source": [
    "solutionid = 0 # ID de la solution à regarder\n",
    "\n",
    "solution = solutions[solutionid]\n",
    "mat_work_on = solution[\"works_on_job\"]\n",
    "\n",
    "fig, ax = plt.subplots()\n",
    "fig.set_size_inches((10, 2))\n",
    "\n",
    "ax.axis('off')\n",
    "ax.axis('tight')\n",
    "ax.table(\n",
    "    cellText=mat_work_on,\n",
    "    colLabels=[f\"Job {k}\" for k in range(len(J))],\n",
    "    rowLabels=[f\"{s['name']}\" for s in S], loc='center'\n",
    ")\n",
    "plt.title(f\"Assignation des membres du personnel sur chaque projet pour la solution {solutionid}\")\n",
    "plt.show()"
   ]
  }
 ],
 "metadata": {
  "kernelspec": {
   "display_name": "Python 3",
   "language": "python",
   "name": "python3"
  },
  "language_info": {
   "codemirror_mode": {
    "name": "ipython",
    "version": 3
   },
   "file_extension": ".py",
   "mimetype": "text/x-python",
   "name": "python",
   "nbconvert_exporter": "python",
   "pygments_lexer": "ipython3",
   "version": "3.9.6"
  },
  "orig_nbformat": 4,
  "vscode": {
   "interpreter": {
    "hash": "31f2aee4e71d21fbe5cf8b01ff0e069b9275f58929596ceb00d14d90e3e16cd6"
   }
  }
 },
 "nbformat": 4,
 "nbformat_minor": 2
}
