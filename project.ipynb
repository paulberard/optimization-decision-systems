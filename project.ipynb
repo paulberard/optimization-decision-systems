{
 "cells": [
  {
   "cell_type": "code",
   "execution_count": 109,
   "metadata": {},
   "outputs": [],
   "source": [
    "from gurobipy import *\n",
    "import random as rd\n",
    "import json"
   ]
  },
  {
   "attachments": {},
   "cell_type": "markdown",
   "metadata": {},
   "source": [
    "### Looking at the data"
   ]
  },
  {
   "cell_type": "code",
   "execution_count": 110,
   "metadata": {},
   "outputs": [],
   "source": [
    "# Opening JSON file\n",
    "f = open('/Users/cha/Desktop/Code/optimization-project/data/medium.json')\n",
    "data = json.load(f)\n",
    "data.keys()\n",
    "f.close()"
   ]
  },
  {
   "cell_type": "code",
   "execution_count": 111,
   "metadata": {},
   "outputs": [
    {
     "data": {
      "text/plain": [
       "(22, ['F', 'G', 'A', 'D', 'J', 'C', 'H', 'E', 'B', 'I'])"
      ]
     },
     "execution_count": 111,
     "metadata": {},
     "output_type": "execute_result"
    }
   ],
   "source": [
    "data['horizon'], data['qualifications']"
   ]
  },
  {
   "cell_type": "code",
   "execution_count": 112,
   "metadata": {},
   "outputs": [
    {
     "data": {
      "text/plain": [
       "[{'name': 'Olivia', 'qualifications': ['A', 'B', 'C'], 'vacations': [1, 2]},\n",
       " {'name': 'Liam', 'qualifications': ['A', 'D', 'E'], 'vacations': [1, 2]},\n",
       " {'name': 'Emma', 'qualifications': ['B', 'H'], 'vacations': [8, 9]},\n",
       " {'name': 'Noah',\n",
       "  'qualifications': ['G', 'D', 'J', 'C', 'H', 'I'],\n",
       "  'vacations': []},\n",
       " {'name': 'Amelia',\n",
       "  'qualifications': ['F', 'G', 'J', 'E'],\n",
       "  'vacations': [16, 15]}]"
      ]
     },
     "execution_count": 112,
     "metadata": {},
     "output_type": "execute_result"
    }
   ],
   "source": [
    "data['staff']"
   ]
  },
  {
   "cell_type": "code",
   "execution_count": 113,
   "metadata": {},
   "outputs": [
    {
     "data": {
      "text/plain": [
       "{'name': 'Job9',\n",
       " 'gain': 25,\n",
       " 'due_date': 18,\n",
       " 'daily_penalty': 3,\n",
       " 'working_days_per_qualification': {'E': 4, 'G': 3, 'H': 2}}"
      ]
     },
     "execution_count": 113,
     "metadata": {},
     "output_type": "execute_result"
    }
   ],
   "source": [
    "data['jobs'][8]"
   ]
  },
  {
   "attachments": {},
   "cell_type": "markdown",
   "metadata": {},
   "source": [
    "## Model and variables"
   ]
  },
  {
   "cell_type": "code",
   "execution_count": 114,
   "metadata": {},
   "outputs": [],
   "source": [
    "# Instanciation du modèle\n",
    "m = Model()\n",
    "\n",
    "# Création de variables\n",
    "with open('/Users/cha/Desktop/Code/optimization-project/data/small.json') as f:\n",
    "    data = json.load(f)\n",
    "\n",
    "S = data['staff']\n",
    "J = data['jobs']\n",
    "Q = data['qualifications']\n",
    "H = data['horizon']\n",
    "\n",
    "X = m.addMVar(shape=(len(S), len(J), len(Q), H), vtype=GRB.BINARY)\n",
    "Y = m.addMVar(shape=len(J), vtype=GRB.BINARY)\n",
    "L = m.addMVar(shape=len(J), vtype=GRB.INTEGER)\n",
    "E = m.addMVar(shape=len(J), vtype=GRB.INTEGER)\n",
    "\n",
    "works_on_job = m.addMVar(shape=(len(S), len(J)), vtype=GRB.BINARY)\n",
    "max_nb_of_jobs = m.addVar(vtype=GRB.INTEGER)\n",
    "\n",
    "job_worked_on = m.addMVar(shape=(len(J), H), vtype=GRB.BINARY)\n",
    "max_len_of_jobs = m.addVar()\n",
    "\n",
    "# maj du modèle\n",
    "m.update()"
   ]
  },
  {
   "attachments": {},
   "cell_type": "markdown",
   "metadata": {},
   "source": [
    "## Defining constraints and objective function"
   ]
  },
  {
   "cell_type": "code",
   "execution_count": 115,
   "metadata": {},
   "outputs": [
    {
     "name": "stdout",
     "output_type": "stream",
     "text": [
      "Warning for adding constraints: zero or small (< 1e-13) coefficients, ignored\n"
     ]
    }
   ],
   "source": [
    "# C1: Sur un jour donné, une personne est maximum sur une compétence d'un seul projet\n",
    "for i in range(len(S)):\n",
    "    for t in range(H):\n",
    "        m.addConstr(X[i, :, :, t].sum() <= 1)\n",
    "\n",
    "# C2: Les membres du personnel ne travaillent pas sur leurs jours de congés\n",
    "for i in range(len(S)):\n",
    "    person = S[i]\n",
    "    for t in person['vacations']:\n",
    "            m.addConstr(X[i, :, :, t].sum() == 0)\n",
    "\n",
    "# C3: Un membre du personnel ne peut pas travailler sur un projet si il n'a pas une des compétences requises\n",
    "for i in range(len(S)):\n",
    "    person = S[i]\n",
    "    for j in range(len(J)):\n",
    "        job = J[j]\n",
    "        for k in range(len(Q)):\n",
    "            qualification = Q[k]\n",
    "            if qualification not in person['qualifications'] and qualification not in list(job['working_days_per_qualification'].keys()):\n",
    "                for t in range(H):\n",
    "                    m.addConstr(X[i, j, k, t] == 0)\n",
    "\n",
    "# C4: Si le projet est réalisé, alors le nombre de jours mobilisé sur chaque compétence du projet est\n",
    "# au moins égal au nombre de jours requis\n",
    "for j in range(len(J)):\n",
    "    job = J[j]\n",
    "    for k in range(len(Q)):\n",
    "        qualification = Q[k]\n",
    "        if qualification in list(job['working_days_per_qualification'].keys()):\n",
    "            njk = job['working_days_per_qualification'][qualification]\n",
    "            m.addConstr(Y[j] * njk <= X[:, j, k, :].sum())\n",
    "\n",
    "# C5: Le nombre de jours passé sur chaque compétence du projet est au maximum égal au nombre de jours requis\n",
    "for j in range(len(J)):\n",
    "    job = J[j]\n",
    "    for k in range(len(Q)):\n",
    "        qualification = Q[k]\n",
    "        if qualification in list(job['working_days_per_qualification'].keys()):\n",
    "            njk = job['working_days_per_qualification'][qualification]\n",
    "            m.addConstr(X[:, j, k, :].sum() <= njk)\n",
    "\n",
    "# C6: Personne ne travaille sur un projet déjà fini\n",
    "for i in range(len(S)):\n",
    "    for j in range(len(J)):\n",
    "        for k in range(len(Q)):\n",
    "            for t in range(H):\n",
    "                m.addConstr(X[i, j, k, t] * t <= E[j])\n",
    "\n",
    "# C7: Le nombre de jours de retard est au moins égal à l'écart entre la due date et la date de rendu\n",
    "for j in range(len(J)):\n",
    "    job = J[j]\n",
    "    dj = job[\"due_date\"]\n",
    "    m.addConstr(E[j] - dj <= L[j])\n",
    "\n",
    "# Ej <= H\n",
    "for j in range(len(J)):\n",
    "    m.addConstr(E[j] <= H)\n",
    "\n",
    "# Lj >= 0\n",
    "for j in range(len(J)):\n",
    "    m.addConstr(L[j] >= 0)\n",
    "\n",
    "# Ej > 0\n",
    "for j in range(len(J)):\n",
    "    m.addConstr(E[j] >= 1)\n",
    "\n",
    "# Définition de works_on_job : Indique si la personne i travaille sur le projet j\n",
    "for i in range(len(S)):\n",
    "    for j in range(len(J)):\n",
    "        res = X[i, j].sum()\n",
    "        m.addConstr(res >= 1 - 10000 * (1 - works_on_job[i, j]))\n",
    "        m.addConstr(res <= 10000 * works_on_job[i, j])\n",
    "\n",
    "# Définition de job_worked_on : Indique si quelqu'un a travaillé sur le projet j le jour t\n",
    "for j in range(len(J)):\n",
    "    for t in range(H):\n",
    "        res = X[:, j, :, t].sum()\n",
    "        m.addConstr(res <= 10000 * job_worked_on[j, t])\n",
    "        m.addConstr(res >= 1 - 10000 * (1 - job_worked_on[j, t]))"
   ]
  },
  {
   "attachments": {},
   "cell_type": "markdown",
   "metadata": {},
   "source": [
    "### Fonction objectif 1 : Maximiser le bénéfice"
   ]
  },
  {
   "cell_type": "code",
   "execution_count": 116,
   "metadata": {},
   "outputs": [],
   "source": [
    "def benefice(Y, L):\n",
    "    res = 0\n",
    "    for j in range(len(J)):\n",
    "        job = J[j]\n",
    "        gj = job[\"gain\"]\n",
    "        cj = job[\"daily_penalty\"]\n",
    "        res += (Y[j] * gj - L[j] * cj)\n",
    "    return res\n",
    "\n",
    "m.setObjectiveN(\n",
    "    - benefice(Y, L),\n",
    "    0,\n",
    "    1\n",
    ")"
   ]
  },
  {
   "attachments": {},
   "cell_type": "markdown",
   "metadata": {},
   "source": [
    "### Fonction objectif 2 : Minimiser le nombre de projets sur lesquels un quelconque collaborateur est affecté"
   ]
  },
  {
   "cell_type": "code",
   "execution_count": 117,
   "metadata": {},
   "outputs": [],
   "source": [
    "def number_of_jobs(works_on_job, i):\n",
    "    res = 0\n",
    "    for j in range(len(J)):\n",
    "        res += works_on_job[i, j]\n",
    "    return res\n",
    "\n",
    "for i in range(len(S)):\n",
    "    m.addConstr(number_of_jobs(works_on_job, i) <= max_nb_of_jobs)\n",
    "\n",
    "m.setObjectiveN(\n",
    "    max_nb_of_jobs,\n",
    "    1,\n",
    "    0\n",
    ")"
   ]
  },
  {
   "attachments": {},
   "cell_type": "markdown",
   "metadata": {},
   "source": [
    "### Fonction objectif 3 : Executer le projet le plus long en un minimum de jours"
   ]
  },
  {
   "cell_type": "code",
   "execution_count": 118,
   "metadata": {},
   "outputs": [],
   "source": [
    "def length_of_job(job_worked_on, j):\n",
    "    res = 0\n",
    "    for t in range(H):\n",
    "        res += job_worked_on[j, t]\n",
    "    return res\n",
    "\n",
    "for j in range(len(J)):\n",
    "    m.addConstr(length_of_job(job_worked_on, j) <= max_len_of_jobs)\n",
    "\n",
    "m.setObjectiveN(\n",
    "    max_len_of_jobs,\n",
    "    2,\n",
    "    0\n",
    ")"
   ]
  },
  {
   "attachments": {},
   "cell_type": "markdown",
   "metadata": {},
   "source": [
    "## Optimizing the model"
   ]
  },
  {
   "cell_type": "code",
   "execution_count": 119,
   "metadata": {},
   "outputs": [
    {
     "name": "stdout",
     "output_type": "stream",
     "text": [
      "Problem has 3 objectives\n",
      "Gurobi found 5 solutions\n",
      "Solution 0:   -70.0  2.0  3.0\n",
      "------------------------------\n",
      "Job done: Y = [ 1.  1.  1.  1. -0.]\n",
      "Delay penalty: L = [ 0.  0.  0.  0. -0.]\n",
      "Finish date: E = [3. 3. 4. 3. 5.]\n",
      "Participates: works_on_job = [[-0.  1. -0.  1. -0.]\n",
      " [-0.  1.  1. -0. -0.]\n",
      " [ 1. -0.  1. -0. -0.]]\n",
      "\n",
      "Solution 1:   -70.0  3.0  3.0\n",
      "------------------------------\n",
      "Job done: Y = [ 1.  1.  1.  1. -0.]\n",
      "Delay penalty: L = [ 0.  0.  0.  0. -0.]\n",
      "Finish date: E = [3. 3. 4. 3. 5.]\n",
      "Participates: works_on_job = [[-0.  1. -0.  1. -0.]\n",
      " [ 1. -0.  1.  1. -0.]\n",
      " [ 1. -0.  1.  1. -0.]]\n",
      "\n",
      "Solution 2:   -70.0  4.0  3.0\n",
      "------------------------------\n",
      "Job done: Y = [1. 1. 1. 1. 0.]\n",
      "Delay penalty: L = [ 0.  0. -0.  0. -0.]\n",
      "Finish date: E = [3. 3. 4. 3. 5.]\n",
      "Participates: works_on_job = [[ 1.  1. -0.  1.  1.]\n",
      " [ 1.  1.  1.  1.  0.]\n",
      " [-0.  1.  1.  1. -0.]]\n",
      "\n",
      "Solution 3:   -65.0  5.0  3.0\n",
      "------------------------------\n",
      "Job done: Y = [1. 0. 1. 1. 1.]\n",
      "Delay penalty: L = [ 0.  0. -0.  0. -0.]\n",
      "Finish date: E = [3. 3. 4. 3. 5.]\n",
      "Participates: works_on_job = [[1. 1. 1. 1. 1.]\n",
      " [1. 0. 1. 1. 0.]\n",
      " [0. 1. 1. 1. 1.]]\n",
      "\n",
      "Solution 4:   0.0  0.0  0.0\n",
      "------------------------------\n",
      "Job done: Y = [-0. -0. -0. -0. -0.]\n",
      "Delay penalty: L = [-0. -0. -0. -0. -0.]\n",
      "Finish date: E = [1. 1. 1. 1. 1.]\n",
      "Participates: works_on_job = [[-0. -0. -0. -0. -0.]\n",
      " [-0. -0. -0. -0. -0.]\n",
      " [-0. -0. -0. -0. -0.]]\n",
      "\n"
     ]
    }
   ],
   "source": [
    "# Paramétrage (mode mute)\n",
    "m.params.outputflag = 0\n",
    "# Résolution du PL\n",
    "m.optimize()\n",
    "\n",
    "nSolutions  = m.SolCount\n",
    "nObjectives = m.NumObj\n",
    "print('Problem has', nObjectives, 'objectives')\n",
    "print('Gurobi found', nSolutions, 'solutions')\n",
    "\n",
    "solutions = []\n",
    "for s in range(nSolutions):\n",
    "    m.params.SolutionNumber = s\n",
    "    print(f\"Solution {s}: \", end='')\n",
    "\n",
    "    for o in range(nObjectives):\n",
    "        m.params.ObjNumber = o\n",
    "        print(' ', m.ObjNVal, end='')\n",
    "\n",
    "    print('')\n",
    "    print('------------------------------')\n",
    "    print('Job done: Y = {}'.format(Y.Xn))\n",
    "    print('Delay penalty: L = {}'.format(L.Xn))\n",
    "    print('Finish date: E = {}'.format(E.Xn))\n",
    "    print('Participates: works_on_job = {}'.format(works_on_job.Xn))\n",
    "    solutions.append({\n",
    "        \"X\": X.Xn,\n",
    "        \"Y\": Y.Xn,\n",
    "        \"E\": E.Xn,\n",
    "        \"L\": L.Xn,\n",
    "        \"works_on_job\": works_on_job.Xn\n",
    "    })\n",
    "    print('')"
   ]
  },
  {
   "attachments": {},
   "cell_type": "markdown",
   "metadata": {},
   "source": [
    "# Visualizing"
   ]
  },
  {
   "cell_type": "code",
   "execution_count": 120,
   "metadata": {},
   "outputs": [
    {
     "data": {
      "image/png": "[encoded data removed]",
      "text/plain": [
       "<Figure size 640x480 with 1 Axes>"
      ]
     },
     "metadata": {},
     "output_type": "display_data"
    }
   ],
   "source": [
    "import matplotlib.pyplot as plt\n",
    "\n",
    "solutionid = 0\n",
    "personid = 0\n",
    "projectid = 1\n",
    "\n",
    "solution = solutions[solutionid]\n",
    "matX = solution[\"X\"]\n",
    "person0 = matX[personid]\n",
    "fig, ax = plt.subplots()\n",
    "\n",
    "# hide axes\n",
    "fig.patch.set_visible(False)\n",
    "ax.axis('off')\n",
    "ax.axis('tight')\n",
    "\n",
    "ax.table(\n",
    "    cellText=person0[projectid],\n",
    "    colLabels=[f\"Jour {k}\" for k in range(H)],\n",
    "    rowLabels=[f\"Compétence {k}\" for k in Q], loc='center'\n",
    ")\n",
    "plt.title(f\"Person: {S[personid + 1]['name']}, Projet: {J[projectid + 1]['name']}\", color=\"white\")\n",
    "plt.show()"
   ]
  }
 ],
 "metadata": {
  "kernelspec": {
   "display_name": "Python 3",
   "language": "python",
   "name": "python3"
  },
  "language_info": {
   "codemirror_mode": {
    "name": "ipython",
    "version": 3
   },
   "file_extension": ".py",
   "mimetype": "text/x-python",
   "name": "python",
   "nbconvert_exporter": "python",
   "pygments_lexer": "ipython3",
   "version": "3.9.6"
  },
  "orig_nbformat": 4,
  "vscode": {
   "interpreter": {
    "hash": "31f2aee4e71d21fbe5cf8b01ff0e069b9275f58929596ceb00d14d90e3e16cd6"
   }
  }
 },
 "nbformat": 4,
 "nbformat_minor": 2
}
