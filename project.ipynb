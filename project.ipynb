{
 "cells": [
  {
   "cell_type": "code",
   "execution_count": 43,
   "metadata": {},
   "outputs": [],
   "source": [
    "from gurobipy import *\n",
    "import random as rd\n",
    "import json\n",
    "import pandas as pd"
   ]
  },
  {
   "attachments": {},
   "cell_type": "markdown",
   "metadata": {},
   "source": [
    "### Rapide visualisation des données"
   ]
  },
  {
   "cell_type": "code",
   "execution_count": 44,
   "metadata": {},
   "outputs": [],
   "source": [
    "path = './data/medium.json'\n",
    "f = open(path)\n",
    "data = json.load(f)\n",
    "data.keys()\n",
    "f.close()"
   ]
  },
  {
   "cell_type": "code",
   "execution_count": 45,
   "metadata": {},
   "outputs": [
    {
     "data": {
      "text/plain": [
       "(22, ['F', 'G', 'A', 'D', 'J', 'C', 'H', 'E', 'B', 'I'])"
      ]
     },
     "execution_count": 45,
     "metadata": {},
     "output_type": "execute_result"
    }
   ],
   "source": [
    "data['horizon'], data['qualifications']"
   ]
  },
  {
   "cell_type": "code",
   "execution_count": 46,
   "metadata": {},
   "outputs": [
    {
     "data": {
      "text/plain": [
       "[{'name': 'Olivia', 'qualifications': ['A', 'B', 'C'], 'vacations': [1, 2]},\n",
       " {'name': 'Liam', 'qualifications': ['A', 'D', 'E'], 'vacations': [1, 2]},\n",
       " {'name': 'Emma', 'qualifications': ['B', 'H'], 'vacations': [8, 9]},\n",
       " {'name': 'Noah',\n",
       "  'qualifications': ['G', 'D', 'J', 'C', 'H', 'I'],\n",
       "  'vacations': []},\n",
       " {'name': 'Amelia',\n",
       "  'qualifications': ['F', 'G', 'J', 'E'],\n",
       "  'vacations': [16, 15]}]"
      ]
     },
     "execution_count": 46,
     "metadata": {},
     "output_type": "execute_result"
    }
   ],
   "source": [
    "data['staff']"
   ]
  },
  {
   "cell_type": "code",
   "execution_count": 47,
   "metadata": {},
   "outputs": [
    {
     "data": {
      "text/plain": [
       "{'name': 'Job1',\n",
       " 'gain': 15,\n",
       " 'due_date': 20,\n",
       " 'daily_penalty': 3,\n",
       " 'working_days_per_qualification': {'A': 4, 'B': 4}}"
      ]
     },
     "execution_count": 47,
     "metadata": {},
     "output_type": "execute_result"
    }
   ],
   "source": [
    "data['jobs'][0]"
   ]
  },
  {
   "attachments": {},
   "cell_type": "markdown",
   "metadata": {},
   "source": [
    "## Modèle et variables"
   ]
  },
  {
   "cell_type": "code",
   "execution_count": 48,
   "metadata": {},
   "outputs": [],
   "source": [
    "# Instanciation du modèle\n",
    "m = Model()\n",
    "\n",
    "# Chargement des données\n",
    "path = './data/small.json'\n",
    "with open(path) as f:\n",
    "    data = json.load(f)\n",
    "\n",
    "# Constantes\n",
    "S = data['staff']\n",
    "J = data['jobs']\n",
    "Q = data['qualifications']\n",
    "H = data['horizon']\n",
    "\n",
    "# Création de variables\n",
    "X = m.addMVar(shape=(len(S), len(J), len(Q), H), vtype=GRB.BINARY)\n",
    "Y = m.addMVar(shape=len(J), vtype=GRB.BINARY)\n",
    "L = m.addMVar(shape=len(J), vtype=GRB.INTEGER)\n",
    "E = m.addMVar(shape=len(J), vtype=GRB.INTEGER)\n",
    "\n",
    "works_on_job = m.addMVar(shape=(len(S), len(J)), vtype=GRB.BINARY)\n",
    "max_nb_of_jobs = m.addVar(vtype=GRB.INTEGER)\n",
    "\n",
    "job_worked_on = m.addMVar(shape=(len(J), H), vtype=GRB.BINARY)\n",
    "max_duration_of_jobs = m.addVar(vtype=GRB.INTEGER)\n",
    "\n",
    "start_date_projects = m.addMVar(shape=len(J), vtype=GRB.INTEGER)\n",
    "\n",
    "# maj du modèle\n",
    "m.update()"
   ]
  },
  {
   "attachments": {},
   "cell_type": "markdown",
   "metadata": {},
   "source": [
    "## Définition des contraintes"
   ]
  },
  {
   "cell_type": "code",
   "execution_count": 49,
   "metadata": {},
   "outputs": [],
   "source": [
    "# C1: Sur un jour donné, une personne est maximum sur une compétence d'un seul projet\n",
    "for i in range(len(S)):\n",
    "    for t in range(H):\n",
    "        m.addConstr(X[i, :, :, t].sum() <= 1)\n",
    "\n",
    "# C2: Les membres du personnel ne travaillent pas sur leurs jours de congés\n",
    "for i in range(len(S)):\n",
    "    person = S[i]\n",
    "    for t in person['vacations']:\n",
    "            m.addConstr(X[i, :, :, t - 1].sum() == 0)\n",
    "\n",
    "# C3: Un membre du personnel ne peut pas travailler sur un projet si il n'a pas une des compétences requises\n",
    "for i in range(len(S)):\n",
    "    person = S[i]\n",
    "    for j in range(len(J)):\n",
    "        job = J[j]\n",
    "        for k in range(len(Q)):\n",
    "            qualification = Q[k]\n",
    "            if (qualification not in person['qualifications']) or (qualification not in list(job['working_days_per_qualification'].keys())):\n",
    "                m.addConstr(X[i, j, k, :].sum() == 0)\n",
    "\n",
    "\n",
    "for j in range(len(J)):\n",
    "    job = J[j]\n",
    "    for k in range(len(Q)):\n",
    "        qualification = Q[k]\n",
    "        if qualification in list(job['working_days_per_qualification'].keys()):\n",
    "            njk = job['working_days_per_qualification'][qualification]\n",
    "\n",
    "            # C4: Si le projet est réalisé, alors le nombre de jours mobilisé sur chaque compétence\n",
    "            # du projet est au moins égal au nombre de jours requis\n",
    "            m.addConstr(Y[j] * njk <= X[:, j, k, :].sum())\n",
    "\n",
    "            # C5: Le nombre de jours passé sur chaque compétence du projet est au maximum égal\n",
    "            # au nombre de jours requis\n",
    "            m.addConstr(X[:, j, k, :].sum() <= njk)\n",
    "\n",
    "\n",
    "# Définition de works_on_job : Indique si la personne i travaille sur le projet j\n",
    "for i in range(len(S)):\n",
    "    for j in range(len(J)):\n",
    "        res = X[i, j].sum()\n",
    "        m.addConstr(res <= 10000 * works_on_job[i, j]) # res >= 1 => works_on_job[i, j] = 1\n",
    "        m.addConstr(res - 1 >= - 10000 * (1 - works_on_job[i, j])) # works_on_job[i, j] = 1 => res >= 1\n",
    "\n",
    "\n",
    "# Définition de job_worked_on : Indique si quelqu'un a travaillé sur le projet j le jour t\n",
    "for j in range(len(J)):\n",
    "    for t in range(H):\n",
    "        res = X[:, j, :, t].sum()\n",
    "        m.addConstr(res <= 10000 * job_worked_on[j, t]) # res >= 1 => job_worked_on[i, j] = 1\n",
    "        m.addConstr(res - 1 >= - 10000 * (1 - job_worked_on[j, t])) # job_worked_on[i, j] = 1 => res >= 1\n",
    "\n",
    "\n",
    "for j in range(len(J)):\n",
    "    # start_date_projects > 0\n",
    "    m.addConstr(start_date_projects[j] >= 1)\n",
    "    # start_date_projects <= H\n",
    "    m.addConstr(start_date_projects[j] <= H)\n",
    "    # Ej > 0\n",
    "    m.addConstr(E[j] >= 1)\n",
    "    # Ej <= H\n",
    "    m.addConstr(E[j] <= H)\n",
    "    for t in range(H):\n",
    "        # C6: Personne ne travaille sur un projet déjà fini\n",
    "        m.addConstr(job_worked_on[j, t] * t <= E[j] - 1)\n",
    "        # Définition de start_date_projects\n",
    "        m.addConstr(start_date_projects[j] - 1 <= t * job_worked_on[j, t])\n",
    "\n",
    "for j in range(len(J)):\n",
    "    # C7: Le nombre de jours de retard est au moins égal à l'écart entre la due date et la date de rendu\n",
    "    job = J[j]\n",
    "    dj = job[\"due_date\"]\n",
    "    m.addConstr(E[j] - dj <= L[j])\n",
    "\n",
    "    # Lj >= 0\n",
    "    m.addConstr(L[j] >= 0)\n",
    "\n",
    "\n",
    "# Définition de max_nb_of_jobs: Nombre de projets maximal parmi le staff\n",
    "for i in range(len(S)):\n",
    "    m.addConstr(works_on_job[i].sum() <= max_nb_of_jobs)\n",
    "\n",
    "# Contrainte de définition de max_len_job: Durée du plus long projet\n",
    "for j in range(len(J)):\n",
    "    m.addConstr(max_duration_of_jobs >= E[j] - start_date_projects[j])\n",
    "\n",
    "\n",
    "m.update()"
   ]
  },
  {
   "attachments": {},
   "cell_type": "markdown",
   "metadata": {},
   "source": [
    "## Définition des fonctions objectifs"
   ]
  },
  {
   "attachments": {},
   "cell_type": "markdown",
   "metadata": {},
   "source": [
    "### Fonction objectif 1 : Maximiser le bénéfice"
   ]
  },
  {
   "cell_type": "code",
   "execution_count": 50,
   "metadata": {},
   "outputs": [],
   "source": [
    "def benefice(J, Y, L):\n",
    "    res = 0\n",
    "    for j in range(len(J)):\n",
    "        job = J[j]\n",
    "        gj = job[\"gain\"]\n",
    "        cj = job[\"daily_penalty\"]\n",
    "        res += (Y[j] * gj - L[j] * cj)\n",
    "    return res\n",
    "\n",
    "m.setObjectiveN(\n",
    "    - benefice(J, Y, L),\n",
    "    0,\n",
    "    0\n",
    ")"
   ]
  },
  {
   "attachments": {},
   "cell_type": "markdown",
   "metadata": {},
   "source": [
    "### Fonction objectif 2 : Minimiser le nombre de projets sur lesquels un quelconque collaborateur est affecté"
   ]
  },
  {
   "cell_type": "code",
   "execution_count": 51,
   "metadata": {},
   "outputs": [],
   "source": [
    "m.setObjectiveN(\n",
    "    max_nb_of_jobs,\n",
    "    1,\n",
    "    0\n",
    ")"
   ]
  },
  {
   "attachments": {},
   "cell_type": "markdown",
   "metadata": {},
   "source": [
    "### Fonction objectif 3 : Executer le projet le plus long en un minimum de jours"
   ]
  },
  {
   "cell_type": "code",
   "execution_count": 52,
   "metadata": {},
   "outputs": [],
   "source": [
    "m.setObjectiveN(\n",
    "    max_duration_of_jobs,\n",
    "    2,\n",
    "    0\n",
    ")"
   ]
  },
  {
   "attachments": {},
   "cell_type": "markdown",
   "metadata": {},
   "source": [
    "## Résolution du problème"
   ]
  },
  {
   "cell_type": "code",
   "execution_count": 53,
   "metadata": {},
   "outputs": [
    {
     "name": "stdout",
     "output_type": "stream",
     "text": [
      "Gurobi Optimizer version 10.0.0 build v10.0.0rc2 (mac64[arm])\n",
      "\n",
      "CPU model: Apple M2\n",
      "Thread count: 8 physical cores, 8 logical processors, using up to 8 threads\n",
      "\n",
      "Optimize a model with 230 rows, 287 columns and 1828 nonzeros\n",
      "Model fingerprint: 0x47dc7765\n",
      "Variable types: 0 continuous, 287 integer (270 binary)\n",
      "Coefficient statistics:\n",
      "  Matrix range     [1e+00, 1e+04]\n",
      "  Objective range  [1e+00, 2e+01]\n",
      "  Bounds range     [1e+00, 1e+00]\n",
      "  RHS range        [1e+00, 1e+04]\n",
      "\n",
      "---------------------------------------------------------------------------\n",
      "Multi-objectives: starting optimization with 3 objectives (1 combined) ...\n",
      "---------------------------------------------------------------------------\n",
      "---------------------------------------------------------------------------\n",
      "\n",
      "Multi-objectives: optimize objective 1 (weighted) ...\n",
      "---------------------------------------------------------------------------\n",
      "\n",
      "Optimize a model with 230 rows, 287 columns and 1828 nonzeros\n",
      "Model fingerprint: 0x6c0e098b\n",
      "Variable types: 0 continuous, 287 integer (270 binary)\n",
      "Coefficient statistics:\n",
      "  Matrix range     [1e+00, 1e+04]\n",
      "  Objective range  [1e+00, 2e+01]\n",
      "  Bounds range     [1e+00, 1e+00]\n",
      "  RHS range        [1e+00, 1e+04]\n",
      "Found heuristic solution: objective 0.0000000\n",
      "Presolve removed 99 rows and 147 columns\n",
      "Presolve time: 0.00s\n",
      "Presolved: 131 rows, 140 columns, 757 nonzeros\n",
      "Variable types: 0 continuous, 140 integer (131 binary)\n",
      "\n",
      "Root relaxation: objective -7.207692e+01, 210 iterations, 0.00 seconds (0.00 work units)\n",
      "\n",
      "    Nodes    |    Current Node    |     Objective Bounds      |     Work\n",
      " Expl Unexpl |  Obj  Depth IntInf | Incumbent    BestBd   Gap | It/Node Time\n",
      "\n",
      "     0     0  -72.07692    0   52    0.00000  -72.07692      -     -    0s\n",
      "H    0     0                     -16.0000000  -72.07692   350%     -    0s\n",
      "H    0     0                     -17.0000000  -72.07692   324%     -    0s\n",
      "H    0     0                     -57.0000000  -63.15001  10.8%     -    0s\n",
      "     0     0  -63.15001    0   66  -57.00000  -63.15001  10.8%     -    0s\n",
      "     0     0  -63.05417    0   64  -57.00000  -63.05417  10.6%     -    0s\n",
      "     0     0  -62.19064    0   62  -57.00000  -62.19064  9.11%     -    0s\n",
      "     0     0  -62.19064    0   63  -57.00000  -62.19064  9.11%     -    0s\n",
      "     0     0  -62.04016    0   61  -57.00000  -62.04016  8.84%     -    0s\n",
      "     0     0  -61.99891    0   62  -57.00000  -61.99891  8.77%     -    0s\n",
      "     0     0  -61.98498    0   67  -57.00000  -61.98498  8.75%     -    0s\n",
      "     0     0  -61.98498    0   68  -57.00000  -61.98498  8.75%     -    0s\n",
      "H    0     0                     -59.0000000  -60.82233  3.09%     -    0s\n",
      "     0     0  -60.82233    0   71  -59.00000  -60.82233  3.09%     -    0s\n",
      "     0     0  -59.00000    0   66  -59.00000  -59.00000  0.00%     -    0s\n",
      "\n",
      "Cutting planes:\n",
      "  Learned: 8\n",
      "  Gomory: 2\n",
      "  Cover: 18\n",
      "  Implied bound: 2\n",
      "  Clique: 4\n",
      "  MIR: 7\n",
      "  RLT: 6\n",
      "  Relax-and-lift: 6\n",
      "\n",
      "Explored 1 nodes (683 simplex iterations) in 0.05 seconds (0.02 work units)\n",
      "Thread count was 8 (of 8 available processors)\n",
      "\n",
      "Solution count 5: -59 -57 -17 ... 0\n",
      "No other solutions better than -59\n",
      "\n",
      "Optimal solution found (tolerance 1.00e-04)\n",
      "Best objective -5.900000000000e+01, best bound -5.900000000000e+01, gap 0.0000%\n",
      "\n",
      "---------------------------------------------------------------------------\n",
      "Multi-objectives: solved in 0.06 seconds (0.02 work units), solution count 5\n",
      "\n"
     ]
    }
   ],
   "source": [
    "# # Paramétrage (mode mute)\n",
    "# m.params.outputflag = 0\n",
    "# Résolution du PL\n",
    "m.optimize()"
   ]
  },
  {
   "cell_type": "code",
   "execution_count": 54,
   "metadata": {},
   "outputs": [
    {
     "name": "stdout",
     "output_type": "stream",
     "text": [
      "Problem has 3 objectives\n",
      "Gurobi found 5 solutions\n",
      "Solution 0:   -65.0  2.0  4.0\n",
      "------------------------------\n",
      "Job done: Y = [ 1. -0.  1.  1.  1.]\n",
      "Delay penalty: L = [ 0.  0.  0.  0. -0.]\n",
      "Finish date: E = [3. 1. 4. 3. 5.]\n",
      "Participates: works_on_job = [[ 0. -0.  0.  1.  1.]\n",
      " [ 1.  0.  1.  0.  0.]\n",
      " [ 1.  0.  1.  0.  0.]]\n",
      "\n",
      "Solution 1:   -64.0  3.0  4.0\n",
      "------------------------------\n",
      "Job done: Y = [ 1.  1.  1.  1. -0.]\n",
      "Delay penalty: L = [-0.  2. -0. -0. -0.]\n",
      "Finish date: E = [3. 5. 4. 3. 5.]\n",
      "Participates: works_on_job = [[ 1.  1.  0.  0. -0.]\n",
      " [ 0.  1.  1.  1.  0.]\n",
      " [ 0.  0.  1.  1.  0.]]\n",
      "\n",
      "Solution 2:   -20.0  2.0  1.0\n",
      "------------------------------\n",
      "Job done: Y = [ 1. -0. -0. -0. -0.]\n",
      "Delay penalty: L = [-0. -0. -0. -0. -0.]\n",
      "Finish date: E = [2. 2. 2. 2. 2.]\n",
      "Participates: works_on_job = [[ 1. -0. -0.  1. -0.]\n",
      " [ 1. -0. -0. -0.  0.]\n",
      " [ 1.  0. -0. -0. -0.]]\n",
      "\n",
      "Solution 3:   -20.0  2.0  2.0\n",
      "------------------------------\n",
      "Job done: Y = [1. 0. 0. 0. 0.]\n",
      "Delay penalty: L = [ 0.  0.  0.  0. -0.]\n",
      "Finish date: E = [3. 2. 2. 3. 3.]\n",
      "Participates: works_on_job = [[1. 1. 0. 0. 0.]\n",
      " [1. 0. 0. 1. 0.]\n",
      " [0. 0. 0. 0. 1.]]\n",
      "\n",
      "Solution 4:   0.0  0.0  0.0\n",
      "------------------------------\n",
      "Job done: Y = [0. 0. 0. 0. 0.]\n",
      "Delay penalty: L = [0. 0. 0. 0. 0.]\n",
      "Finish date: E = [1. 1. 1. 1. 1.]\n",
      "Participates: works_on_job = [[0. 0. 0. 0. 0.]\n",
      " [0. 0. 0. 0. 0.]\n",
      " [0. 0. 0. 0. 0.]]\n",
      "\n"
     ]
    }
   ],
   "source": [
    "nSolutions  = m.SolCount\n",
    "nObjectives = m.NumObj\n",
    "print('Problem has', nObjectives, 'objectives')\n",
    "print('Gurobi found', nSolutions, 'solutions')\n",
    "\n",
    "solutions = []\n",
    "df = pd.DataFrame()\n",
    "for s in range(nSolutions):\n",
    "    m.params.SolutionNumber = s\n",
    "    print(f\"Solution {s}: \", end='')\n",
    "\n",
    "    values = []\n",
    "    for o in range(nObjectives):\n",
    "        m.params.ObjNumber = o\n",
    "        print(' ', m.ObjNVal, end='')\n",
    "        values.append([m.ObjNVal])\n",
    "\n",
    "    print('')\n",
    "    print('------------------------------')\n",
    "    print('Job done: Y = {}'.format(Y.Xn))\n",
    "    print('Delay penalty: L = {}'.format(L.Xn))\n",
    "    print('Finish date: E = {}'.format(E.Xn))\n",
    "    print('Participates: works_on_job = {}'.format(works_on_job.Xn))\n",
    "    solutions.append({\n",
    "        \"X\": X.Xn,\n",
    "        \"Y\": Y.Xn,\n",
    "        \"E\": E.Xn,\n",
    "        \"L\": L.Xn,\n",
    "        \"works_on_job\": works_on_job.Xn\n",
    "    })\n",
    "    print('')\n",
    "    df = pd.concat([\n",
    "        df, pd.DataFrame(values)\n",
    "    ], axis=1)\n",
    "\n",
    "df = df.T\n",
    "df.index = [k for k in range(nSolutions)]\n",
    "df.to_csv(f\"results/solutions_{path.split('/')[-1].split('.')[0]}.csv\", index=False)"
   ]
  },
  {
   "attachments": {},
   "cell_type": "markdown",
   "metadata": {},
   "source": [
    "# Visualisation des emplois du temps"
   ]
  },
  {
   "cell_type": "code",
   "execution_count": 55,
   "metadata": {},
   "outputs": [
    {
     "data": {
      "image/png": "[encoded data removed]",
      "text/plain": [
       "<Figure size 1000x300 with 1 Axes>"
      ]
     },
     "metadata": {},
     "output_type": "display_data"
    }
   ],
   "source": [
    "import matplotlib.pyplot as plt\n",
    "\n",
    "solutionid = 0 # ID de la solution à regarder\n",
    "personid = 0 # ID de la personne à regarder\n",
    "job_id = 0 # ID du jour à regarder\n",
    "\n",
    "solution = solutions[solutionid]\n",
    "matX = solution[\"X\"]\n",
    "person0 = matX[personid]\n",
    "\n",
    "fig, ax = plt.subplots()\n",
    "fig.set_size_inches((10, 3))\n",
    "\n",
    "ax.axis('off')\n",
    "ax.axis('tight')\n",
    "ax.table(\n",
    "    cellText=person0[job_id],\n",
    "    colLabels=[f\"Jour {k}\" for k in range(H)],\n",
    "    rowLabels=[f\"Compétence {k}\" for k in Q], loc='center'\n",
    ")\n",
    "plt.title(f\"Emploi du temps de {S[personid]['name']} pour le {J[job_id]['name']} (solution {solutionid})\")\n",
    "plt.show()\n"
   ]
  },
  {
   "cell_type": "code",
   "execution_count": 56,
   "metadata": {},
   "outputs": [
    {
     "data": {
      "image/png": "[encoded data removed]",
      "text/plain": [
       "<Figure size 1000x200 with 1 Axes>"
      ]
     },
     "metadata": {},
     "output_type": "display_data"
    }
   ],
   "source": [
    "solutionid = 0 # ID de la solution à regarder\n",
    "\n",
    "solution = solutions[solutionid]\n",
    "mat_work_on = solution[\"works_on_job\"]\n",
    "\n",
    "fig, ax = plt.subplots()\n",
    "fig.set_size_inches((10, 2))\n",
    "\n",
    "ax.axis('off')\n",
    "ax.axis('tight')\n",
    "ax.table(\n",
    "    cellText=mat_work_on,\n",
    "    colLabels=[f\"Job {k}\" for k in range(len(J))],\n",
    "    rowLabels=[f\"{s['name']}\" for s in S], loc='center'\n",
    ")\n",
    "plt.title(f\"Assignation des membres du personnel sur chaque projet pour la solution {solutionid}\")\n",
    "plt.show()"
   ]
  }
 ],
 "metadata": {
  "kernelspec": {
   "display_name": "Python 3",
   "language": "python",
   "name": "python3"
  },
  "language_info": {
   "codemirror_mode": {
    "name": "ipython",
    "version": 3
   },
   "file_extension": ".py",
   "mimetype": "text/x-python",
   "name": "python",
   "nbconvert_exporter": "python",
   "pygments_lexer": "ipython3",
   "version": "3.9.6"
  },
  "orig_nbformat": 4,
  "vscode": {
   "interpreter": {
    "hash": "31f2aee4e71d21fbe5cf8b01ff0e069b9275f58929596ceb00d14d90e3e16cd6"
   }
  }
 },
 "nbformat": 4,
 "nbformat_minor": 2
}
