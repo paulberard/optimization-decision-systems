{
 "cells": [
  {
   "cell_type": "code",
   "execution_count": 10,
   "metadata": {},
   "outputs": [],
   "source": [
    "from gurobipy import *\n",
    "import random as rd\n",
    "import json"
   ]
  },
  {
   "attachments": {},
   "cell_type": "markdown",
   "metadata": {},
   "source": [
    "### Looking at the data"
   ]
  },
  {
   "cell_type": "code",
   "execution_count": 11,
   "metadata": {},
   "outputs": [],
   "source": [
    "# Opening JSON file\n",
    "f = open('/Users/cha/Desktop/Code/optimization-project/data/medium.json')\n",
    "data = json.load(f)\n",
    "data.keys()\n",
    "f.close()"
   ]
  },
  {
   "cell_type": "code",
   "execution_count": 12,
   "metadata": {},
   "outputs": [
    {
     "data": {
      "text/plain": [
       "(22, ['F', 'G', 'A', 'D', 'J', 'C', 'H', 'E', 'B', 'I'])"
      ]
     },
     "execution_count": 12,
     "metadata": {},
     "output_type": "execute_result"
    }
   ],
   "source": [
    "data['horizon'], data['qualifications']"
   ]
  },
  {
   "cell_type": "code",
   "execution_count": 13,
   "metadata": {},
   "outputs": [
    {
     "data": {
      "text/plain": [
       "[{'name': 'Olivia', 'qualifications': ['A', 'B', 'C'], 'vacations': [1, 2]},\n",
       " {'name': 'Liam', 'qualifications': ['A', 'D', 'E'], 'vacations': [1, 2]},\n",
       " {'name': 'Emma', 'qualifications': ['B', 'H'], 'vacations': [8, 9]},\n",
       " {'name': 'Noah',\n",
       "  'qualifications': ['G', 'D', 'J', 'C', 'H', 'I'],\n",
       "  'vacations': []},\n",
       " {'name': 'Amelia',\n",
       "  'qualifications': ['F', 'G', 'J', 'E'],\n",
       "  'vacations': [16, 15]}]"
      ]
     },
     "execution_count": 13,
     "metadata": {},
     "output_type": "execute_result"
    }
   ],
   "source": [
    "data['staff']"
   ]
  },
  {
   "cell_type": "code",
   "execution_count": 14,
   "metadata": {},
   "outputs": [
    {
     "data": {
      "text/plain": [
       "{'name': 'Job9',\n",
       " 'gain': 25,\n",
       " 'due_date': 18,\n",
       " 'daily_penalty': 3,\n",
       " 'working_days_per_qualification': {'E': 4, 'G': 3, 'H': 2}}"
      ]
     },
     "execution_count": 14,
     "metadata": {},
     "output_type": "execute_result"
    }
   ],
   "source": [
    "data['jobs'][8]"
   ]
  },
  {
   "attachments": {},
   "cell_type": "markdown",
   "metadata": {},
   "source": [
    "## Model and variable"
   ]
  },
  {
   "cell_type": "code",
   "execution_count": 15,
   "metadata": {},
   "outputs": [],
   "source": [
    "# Instanciation du modèle\n",
    "m = Model(\"Simple PL modelling\")\n",
    "\n",
    "# Création de variables\n",
    "with open('/Users/cha/Desktop/Code/optimization-project/data/small.json') as f:\n",
    "    data = json.load(f)\n",
    "\n",
    "S = data['staff']\n",
    "J = data['jobs']\n",
    "Q = data['qualifications']\n",
    "H = data['horizon']\n",
    "\n",
    "X = m.addMVar(shape=(len(S), len(J), len(Q), H), vtype=GRB.BINARY)\n",
    "Y = m.addMVar(shape=len(J), vtype=GRB.BINARY)\n",
    "L = m.addMVar(shape=len(J))\n",
    "E = m.addMVar(shape=len(J))\n",
    "# maj du modèle\n",
    "m.update()"
   ]
  },
  {
   "attachments": {},
   "cell_type": "markdown",
   "metadata": {},
   "source": [
    "## Defining constraints and objective function"
   ]
  },
  {
   "cell_type": "code",
   "execution_count": 16,
   "metadata": {},
   "outputs": [
    {
     "name": "stdout",
     "output_type": "stream",
     "text": [
      "Warning for adding constraints: zero or small (< 1e-13) coefficients, ignored\n"
     ]
    }
   ],
   "source": [
    "def c1(x, i, t):\n",
    "    res = 0\n",
    "    for j in range(len(J)):\n",
    "        for k in range(len(Q)):\n",
    "            res += x[i, j, k, t]\n",
    "    return res\n",
    "\n",
    "def c4(x, j, k):\n",
    "    res = 0\n",
    "    for i in range(len(S)):\n",
    "        for t in range(H):\n",
    "            res += x[i, j, k, t]\n",
    "    return res\n",
    "\n",
    "\n",
    "# C1\n",
    "for i in range(len(S)):\n",
    "    for t in range(H):\n",
    "        m.addConstr(c1(X, i, t) <= 1)\n",
    "\n",
    "# C2\n",
    "for i in range(len(S)):\n",
    "    person = S[i]\n",
    "    for t in person['vacations']:\n",
    "        m.addConstr(c1(X, i, t) == 0)\n",
    "\n",
    "# C3\n",
    "for i in range(len(S)):\n",
    "    person = S[i]\n",
    "    for j in range(len(J)):\n",
    "        job = J[j]\n",
    "        for k in range(len(Q)):\n",
    "            qualification = Q[k]\n",
    "            if qualification not in person['qualifications'] and qualification not in list(job['working_days_per_qualification'].keys()):\n",
    "                for t in range(H):\n",
    "                    m.addConstr(X[i, j, k, t] == 0)\n",
    "\n",
    "# C4\n",
    "for j in range(len(J)):\n",
    "    job = J[j]\n",
    "    for k in range(len(Q)):\n",
    "        qualification = Q[k]\n",
    "        qualifications = list(job['working_days_per_qualification'].keys())\n",
    "        if qualification in qualifications:\n",
    "            njk = job['working_days_per_qualification'][qualification]\n",
    "            m.addConstr(Y[j] * njk <= c4(X, j, k))\n",
    "\n",
    "# C5\n",
    "for j in range(len(J)):\n",
    "    job = J[j]\n",
    "    for k in range(len(Q)):\n",
    "        qualification = Q[k]\n",
    "        qualifications = list(job['working_days_per_qualification'].keys())\n",
    "        if qualification in qualifications:\n",
    "            njk = job['working_days_per_qualification'][qualification]\n",
    "            m.addConstr(c4(X, j, k) <= njk)\n",
    "\n",
    "# C6\n",
    "for i in range(len(S)):\n",
    "    for j in range(len(J)):\n",
    "        for k in range(len(Q)):\n",
    "            for t in range(H):\n",
    "                m.addConstr(X[i, j, k, t] * t <= E[j])\n",
    "\n",
    "# C7\n",
    "for j in range(len(J)):\n",
    "    job = J[j]\n",
    "    dj = job[\"due_date\"]\n",
    "    m.addConstr(E[j] - dj <= L[j])\n",
    "\n",
    "# Ej <= H\n",
    "for j in range(len(J)):\n",
    "    m.addConstr(E[j] <= H)\n",
    "\n",
    "# Lj >= 0\n",
    "for j in range(len(J)):\n",
    "    m.addConstr(L[j] >= 0)\n",
    "\n",
    "# Ej > 0\n",
    "for j in range(len(J)):\n",
    "    m.addConstr(E[j] >= 1)"
   ]
  },
  {
   "attachments": {},
   "cell_type": "markdown",
   "metadata": {},
   "source": [
    "First objective function"
   ]
  },
  {
   "cell_type": "code",
   "execution_count": 17,
   "metadata": {},
   "outputs": [],
   "source": [
    "def obj1(Y, L):\n",
    "    res = 0\n",
    "    for j in range(len(J)):\n",
    "        job = J[j]\n",
    "        gj = job[\"gain\"]\n",
    "        cj = job[\"daily_penalty\"]\n",
    "        res += (Y[j] * gj - L[j] * cj)\n",
    "    return res\n",
    "\n",
    "m.setObjective(\n",
    "    obj1(Y, L),\n",
    "    GRB.MAXIMIZE\n",
    ")"
   ]
  },
  {
   "attachments": {},
   "cell_type": "markdown",
   "metadata": {},
   "source": [
    "Minimiser le nombre de projets sur lesquels un quelconque collaborateur est affecté"
   ]
  },
  {
   "attachments": {},
   "cell_type": "markdown",
   "metadata": {},
   "source": [
    "si x ≥ x0, imposer la contrainte x − x0 < M.δ (avec M un majorant de x) implique que δ = 1"
   ]
  },
  {
   "cell_type": "code",
   "execution_count": 18,
   "metadata": {},
   "outputs": [
    {
     "ename": "GurobiError",
     "evalue": "Constraint has no bool value (are you trying \"lb <= expr <= ub\"?)",
     "output_type": "error",
     "traceback": [
      "\u001b[0;31m---------------------------------------------------------------------------\u001b[0m",
      "\u001b[0;31mGurobiError\u001b[0m                               Traceback (most recent call last)",
      "Cell \u001b[0;32mIn[18], line 16\u001b[0m\n\u001b[1;32m     14\u001b[0m     \u001b[39mfor\u001b[39;00m j \u001b[39min\u001b[39;00m \u001b[39mrange\u001b[39m(\u001b[39mlen\u001b[39m(J)):\n\u001b[1;32m     15\u001b[0m         res \u001b[39m=\u001b[39m working_on_project(X, i, j)\n\u001b[0;32m---> 16\u001b[0m         \u001b[39mif\u001b[39;00m res \u001b[39m>\u001b[39m\u001b[39m=\u001b[39m \u001b[39m1\u001b[39m:\n\u001b[1;32m     17\u001b[0m             m\u001b[39m.\u001b[39maddConstr(res \u001b[39m-\u001b[39m \u001b[39m1\u001b[39m \u001b[39m<\u001b[39m\u001b[39m=\u001b[39m H \u001b[39m*\u001b[39m \u001b[39mlen\u001b[39m(Q) \u001b[39m*\u001b[39m P[i, j])\n\u001b[1;32m     19\u001b[0m \u001b[39mdef\u001b[39;00m \u001b[39mobj2\u001b[39m(P, i):\n",
      "File \u001b[0;32msrc/gurobipy/tempconstr.pxi:57\u001b[0m, in \u001b[0;36mgurobipy.TempConstr.__bool__\u001b[0;34m()\u001b[0m\n",
      "\u001b[0;31mGurobiError\u001b[0m: Constraint has no bool value (are you trying \"lb <= expr <= ub\"?)"
     ]
    }
   ],
   "source": [
    "# C'est un => qu'il faut introduire : si le nombre de jour sur lequel la personne travaille est supérieur à 1 alors la variable P[i, j] vaut 1\n",
    "\n",
    "def working_on_project(X, i, j):\n",
    "    res = 0\n",
    "    for k in range(len(Q)):\n",
    "        for t in range(H):\n",
    "            res += X[i, j, k, t]\n",
    "    return res\n",
    "\n",
    "P = m.addMVar(shape=(len(S), len(J)), vtype=GRB.BINARY)\n",
    "\n",
    "# Contrainte : nombre de projets par personne\n",
    "for i in range(len(S)):\n",
    "    for j in range(len(J)):\n",
    "        res = working_on_project(X, i, j)\n",
    "        m.addConstr(res == 0 or res - 1 <= H * len(Q) * P[i, j])\n",
    "\n",
    "def obj2(P, i):\n",
    "    res = 0\n",
    "    for j in range(len(J)):\n",
    "        res += P[i, j]\n",
    "    return res\n",
    "\n",
    "\n",
    "for i in range(len(S)):\n",
    "    m.setObjective(\n",
    "        obj2(P, i),\n",
    "        GRB.MINIMIZE\n",
    "    )"
   ]
  },
  {
   "attachments": {},
   "cell_type": "markdown",
   "metadata": {},
   "source": [
    "Executer le projet le plus long en un minimum de jours"
   ]
  },
  {
   "cell_type": "code",
   "execution_count": null,
   "metadata": {},
   "outputs": [
    {
     "ename": "",
     "evalue": "",
     "output_type": "error",
     "traceback": [
      "\u001b[1;31mJupyter ne peut pas être démarré. Erreur lors de la tentative de localisation de Jupyter : Les cellules en cours d’exécution avec irllusis nécessitent le package notebook.\n",
      "\u001b[1;31mRun the following command to install 'jupyter et notebook' into the Python environment. \n",
      "\u001b[1;31mCommand: 'python -m pip install jupyter notebook -U\n",
      "\u001b[1;31mor\n",
      "\u001b[1;31mconda install jupyter notebook -U'\n",
      "\u001b[1;31mCliquez sur <a href='https://aka.ms/installJupyterForVSCode'>ici</a> pour plus d’informations."
     ]
    }
   ],
   "source": [
    "M = m.addMVar(shape=(len(J), H), vtype=GRB.BINARY)\n",
    "\n",
    "# Contrainte : nombre de projets par personne\n",
    "for j in range(len(J)):\n",
    "    for t in range(H):\n",
    "        m.addConstr(M[j, t] <= 1)\n",
    "\n",
    "def obj3(M, j):\n",
    "    res = 0\n",
    "    for t in range(H):\n",
    "        res += M[j, t]\n",
    "    return res\n",
    "\n",
    "# for j in range(len(J)):\n",
    "#     m.setObjective(\n",
    "#         obj3(M, j),\n",
    "#         GRB.MINIMIZE\n",
    "#     )"
   ]
  },
  {
   "attachments": {},
   "cell_type": "markdown",
   "metadata": {},
   "source": [
    "## Optimizing the model"
   ]
  },
  {
   "cell_type": "code",
   "execution_count": null,
   "metadata": {},
   "outputs": [
    {
     "ename": "",
     "evalue": "",
     "output_type": "error",
     "traceback": [
      "\u001b[1;31mJupyter ne peut pas être démarré. Erreur lors de la tentative de localisation de Jupyter : Les cellules en cours d’exécution avec irllusis nécessitent le package notebook.\n",
      "\u001b[1;31mRun the following command to install 'jupyter et notebook' into the Python environment. \n",
      "\u001b[1;31mCommand: 'python -m pip install jupyter notebook -U\n",
      "\u001b[1;31mor\n",
      "\u001b[1;31mconda install jupyter notebook -U'\n",
      "\u001b[1;31mCliquez sur <a href='https://aka.ms/installJupyterForVSCode'>ici</a> pour plus d’informations."
     ]
    }
   ],
   "source": [
    "# Paramétrage (mode mute)\n",
    "m.params.outputflag = 0\n",
    "# Résolution du PL\n",
    "m.optimize()\n",
    "print(\"X: \", X.X, \"\\n\")\n",
    "print(\"Y: \", Y.X, \"\\n\")\n",
    "print(\"L: \", L.X, \"\\n\")\n",
    "print(\"E: \", E.X, \"\\n\")\n",
    "print(\"objective: \", m.objVal)"
   ]
  },
  {
   "cell_type": "code",
   "execution_count": null,
   "metadata": {},
   "outputs": [
    {
     "ename": "",
     "evalue": "",
     "output_type": "error",
     "traceback": [
      "\u001b[1;31mJupyter ne peut pas être démarré. Erreur lors de la tentative de localisation de Jupyter : Les cellules en cours d’exécution avec irllusis nécessitent le package notebook.\n",
      "\u001b[1;31mRun the following command to install 'jupyter et notebook' into the Python environment. \n",
      "\u001b[1;31mCommand: 'python -m pip install jupyter notebook -U\n",
      "\u001b[1;31mor\n",
      "\u001b[1;31mconda install jupyter notebook -U'\n",
      "\u001b[1;31mCliquez sur <a href='https://aka.ms/installJupyterForVSCode'>ici</a> pour plus d’informations."
     ]
    }
   ],
   "source": [
    "matE = E.X\n",
    "matX = X.X\n",
    "matY = Y.X\n",
    "matL = L.X"
   ]
  },
  {
   "cell_type": "code",
   "execution_count": null,
   "metadata": {},
   "outputs": [
    {
     "ename": "",
     "evalue": "",
     "output_type": "error",
     "traceback": [
      "\u001b[1;31mJupyter ne peut pas être démarré. Erreur lors de la tentative de localisation de Jupyter : Les cellules en cours d’exécution avec irllusis nécessitent le package notebook.\n",
      "\u001b[1;31mRun the following command to install 'jupyter et notebook' into the Python environment. \n",
      "\u001b[1;31mCommand: 'python -m pip install jupyter notebook -U\n",
      "\u001b[1;31mor\n",
      "\u001b[1;31mconda install jupyter notebook -U'\n",
      "\u001b[1;31mCliquez sur <a href='https://aka.ms/installJupyterForVSCode'>ici</a> pour plus d’informations."
     ]
    }
   ],
   "source": [
    "import matplotlib.pyplot as plt\n",
    "\n",
    "person0 = matX[0]\n",
    "plt.table(\n",
    "    cellText=person0[0],\n",
    "    rowLabels=[\"A\", \"B\", \"C\"],\n",
    "    colLabels=[k for k in range(H)],\n",
    ")\n",
    "fig, ax = plt.subplots()\n",
    "\n",
    "# hide axes\n",
    "fig.patch.set_visible(False)\n",
    "ax.axis('off')\n",
    "ax.axis('tight')\n",
    "\n",
    "ax.table(cellText=person0[0], colLabels=[k for k in range(H)], rowLabels=[\"A\", \"B\", \"C\"], loc='center')"
   ]
  },
  {
   "cell_type": "code",
   "execution_count": null,
   "metadata": {},
   "outputs": [
    {
     "ename": "",
     "evalue": "",
     "output_type": "error",
     "traceback": [
      "\u001b[1;31mJupyter ne peut pas être démarré. Erreur lors de la tentative de localisation de Jupyter : Les cellules en cours d’exécution avec irllusis nécessitent le package notebook.\n",
      "\u001b[1;31mRun the following command to install 'jupyter et notebook' into the Python environment. \n",
      "\u001b[1;31mCommand: 'python -m pip install jupyter notebook -U\n",
      "\u001b[1;31mor\n",
      "\u001b[1;31mconda install jupyter notebook -U'\n",
      "\u001b[1;31mCliquez sur <a href='https://aka.ms/installJupyterForVSCode'>ici</a> pour plus d’informations."
     ]
    }
   ],
   "source": [
    "def rendu_tot():\n",
    "    for j in range(len(J)):\n",
    "        if matE[j] < J[j][\"due_date\"]:\n",
    "            print(\"Yes\")\n",
    "rendu_tot()"
   ]
  },
  {
   "cell_type": "code",
   "execution_count": null,
   "metadata": {},
   "outputs": [
    {
     "ename": "",
     "evalue": "",
     "output_type": "error",
     "traceback": [
      "\u001b[1;31mJupyter ne peut pas être démarré. Erreur lors de la tentative de localisation de Jupyter : Les cellules en cours d’exécution avec irllusis nécessitent le package notebook.\n",
      "\u001b[1;31mRun the following command to install 'jupyter et notebook' into the Python environment. \n",
      "\u001b[1;31mCommand: 'python -m pip install jupyter notebook -U\n",
      "\u001b[1;31mor\n",
      "\u001b[1;31mconda install jupyter notebook -U'\n",
      "\u001b[1;31mCliquez sur <a href='https://aka.ms/installJupyterForVSCode'>ici</a> pour plus d’informations."
     ]
    }
   ],
   "source": [
    "for i in range(len(S)):\n",
    "    for t in range(H):\n",
    "        res = 0\n",
    "        for j in range(len(J)):\n",
    "            for k in range(len(Q)):\n",
    "                res += matX[i, j, k, t]\n",
    "        print(res)"
   ]
  },
  {
   "attachments": {},
   "cell_type": "markdown",
   "metadata": {},
   "source": [
    "## Tuto internet"
   ]
  },
  {
   "cell_type": "code",
   "execution_count": null,
   "metadata": {},
   "outputs": [
    {
     "ename": "",
     "evalue": "",
     "output_type": "error",
     "traceback": [
      "\u001b[1;31mJupyter ne peut pas être démarré. Erreur lors de la tentative de localisation de Jupyter : Les cellules en cours d’exécution avec irllusis nécessitent le package notebook.\n",
      "\u001b[1;31mRun the following command to install 'jupyter et notebook' into the Python environment. \n",
      "\u001b[1;31mCommand: 'python -m pip install jupyter notebook -U\n",
      "\u001b[1;31mor\n",
      "\u001b[1;31mconda install jupyter notebook -U'\n",
      "\u001b[1;31mCliquez sur <a href='https://aka.ms/installJupyterForVSCode'>ici</a> pour plus d’informations."
     ]
    }
   ],
   "source": [
    "import gurobipy as gp\n",
    "from gurobipy import GRB\n",
    "import numpy as np\n",
    "import scipy.sparse as sp"
   ]
  },
  {
   "cell_type": "code",
   "execution_count": null,
   "metadata": {},
   "outputs": [
    {
     "ename": "",
     "evalue": "",
     "output_type": "error",
     "traceback": [
      "\u001b[1;31mJupyter ne peut pas être démarré. Erreur lors de la tentative de localisation de Jupyter : Les cellules en cours d’exécution avec irllusis nécessitent le package notebook.\n",
      "\u001b[1;31mRun the following command to install 'jupyter et notebook' into the Python environment. \n",
      "\u001b[1;31mCommand: 'python -m pip install jupyter notebook -U\n",
      "\u001b[1;31mor\n",
      "\u001b[1;31mconda install jupyter notebook -U'\n",
      "\u001b[1;31mCliquez sur <a href='https://aka.ms/installJupyterForVSCode'>ici</a> pour plus d’informations."
     ]
    }
   ],
   "source": [
    "# Create a new model\n",
    "m = gp.Model(\"matrix1\")\n",
    "\n",
    "# Create variables\n",
    "x = m.addMVar(shape=3, vtype=GRB.BINARY, name=\"x\")\n",
    "\n",
    "# Set objective\n",
    "obj = np.array([1.0, 1.0, 2.0])\n",
    "m.setObjective(obj @ x, GRB.MAXIMIZE)\n",
    "\n",
    "# Build (sparse) constraint matrix\n",
    "val = np.array([1.0, 2.0, 3.0, -1.0, -1.0])\n",
    "row = np.array([0, 0, 0, 1, 1])\n",
    "col = np.array([0, 1, 2, 0, 1])\n",
    "\n",
    "A = sp.csr_matrix((val, (row, col)), shape=(2, 3))\n",
    "\n",
    "# Build rhs vector\n",
    "rhs = np.array([4.0, -1.0])\n",
    "\n",
    "# Add constraints\n",
    "m.addConstr(A @ x <= rhs, name=\"c\")\n",
    "\n",
    "# Optimize model\n",
    "m.optimize()\n",
    "\n",
    "print(\"here\", x.X)\n",
    "print('Obj: %g' % m.ObjVal)"
   ]
  }
 ],
 "metadata": {
  "kernelspec": {
   "display_name": "Python 3",
   "language": "python",
   "name": "python3"
  },
  "language_info": {
   "codemirror_mode": {
    "name": "ipython",
    "version": 3
   },
   "file_extension": ".py",
   "mimetype": "text/x-python",
   "name": "python",
   "nbconvert_exporter": "python",
   "pygments_lexer": "ipython3",
   "version": "3.9.6"
  },
  "orig_nbformat": 4,
  "vscode": {
   "interpreter": {
    "hash": "31f2aee4e71d21fbe5cf8b01ff0e069b9275f58929596ceb00d14d90e3e16cd6"
   }
  }
 },
 "nbformat": 4,
 "nbformat_minor": 2
}
